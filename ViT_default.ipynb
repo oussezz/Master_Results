{
  "cells": [
    {
      "cell_type": "markdown",
      "metadata": {
        "id": "view-in-github",
        "colab_type": "text"
      },
      "source": [
        "<a href=\"https://colab.research.google.com/github/oussezz/Master_Results/blob/main/ViT_default.ipynb\" target=\"_parent\"><img src=\"https://colab.research.google.com/assets/colab-badge.svg\" alt=\"Open In Colab\"/></a>"
      ]
    },
    {
      "cell_type": "code",
      "source": [
        "!git clone https://github.com/sovit-123/vision_transformers.git\n",
        "%cd vision_transformers"
      ],
      "metadata": {
        "colab": {
          "base_uri": "https://localhost:8080/"
        },
        "id": "AP5W6lokTSdn",
        "outputId": "cdf7ae57-cc7d-4260-a59f-93bd0d030ff6"
      },
      "id": "AP5W6lokTSdn",
      "execution_count": 1,
      "outputs": [
        {
          "output_type": "stream",
          "name": "stdout",
          "text": [
            "Cloning into 'vision_transformers'...\n",
            "remote: Enumerating objects: 612, done.\u001b[K\n",
            "remote: Counting objects: 100% (333/333), done.\u001b[K\n",
            "remote: Compressing objects: 100% (242/242), done.\u001b[K\n",
            "remote: Total 612 (delta 175), reused 213 (delta 89), pack-reused 279\u001b[K\n",
            "Receiving objects: 100% (612/612), 25.77 MiB | 11.08 MiB/s, done.\n",
            "Resolving deltas: 100% (332/332), done.\n",
            "/content/vision_transformers\n"
          ]
        }
      ]
    },
    {
      "cell_type": "code",
      "source": [
        "!pip install ."
      ],
      "metadata": {
        "colab": {
          "base_uri": "https://localhost:8080/"
        },
        "id": "b9WHL1TsTYE3",
        "outputId": "01f2b5fb-4989-4a82-cf96-e7ba170c2173"
      },
      "id": "b9WHL1TsTYE3",
      "execution_count": 2,
      "outputs": [
        {
          "output_type": "stream",
          "name": "stdout",
          "text": [
            "Looking in indexes: https://pypi.org/simple, https://us-python.pkg.dev/colab-wheels/public/simple/\n",
            "Processing /content/vision_transformers\n",
            "  Preparing metadata (setup.py) ... \u001b[?25l\u001b[?25hdone\n",
            "Requirement already satisfied: torch>=1.10 in /usr/local/lib/python3.10/dist-packages (from vision-transformers==0.1.1.0) (2.0.1+cu118)\n",
            "Requirement already satisfied: torchvision in /usr/local/lib/python3.10/dist-packages (from vision-transformers==0.1.1.0) (0.15.2+cu118)\n",
            "Requirement already satisfied: filelock in /usr/local/lib/python3.10/dist-packages (from torch>=1.10->vision-transformers==0.1.1.0) (3.12.0)\n",
            "Requirement already satisfied: typing-extensions in /usr/local/lib/python3.10/dist-packages (from torch>=1.10->vision-transformers==0.1.1.0) (4.5.0)\n",
            "Requirement already satisfied: sympy in /usr/local/lib/python3.10/dist-packages (from torch>=1.10->vision-transformers==0.1.1.0) (1.11.1)\n",
            "Requirement already satisfied: networkx in /usr/local/lib/python3.10/dist-packages (from torch>=1.10->vision-transformers==0.1.1.0) (3.1)\n",
            "Requirement already satisfied: jinja2 in /usr/local/lib/python3.10/dist-packages (from torch>=1.10->vision-transformers==0.1.1.0) (3.1.2)\n",
            "Requirement already satisfied: triton==2.0.0 in /usr/local/lib/python3.10/dist-packages (from torch>=1.10->vision-transformers==0.1.1.0) (2.0.0)\n",
            "Requirement already satisfied: cmake in /usr/local/lib/python3.10/dist-packages (from triton==2.0.0->torch>=1.10->vision-transformers==0.1.1.0) (3.25.2)\n",
            "Requirement already satisfied: lit in /usr/local/lib/python3.10/dist-packages (from triton==2.0.0->torch>=1.10->vision-transformers==0.1.1.0) (16.0.5)\n",
            "Requirement already satisfied: numpy in /usr/local/lib/python3.10/dist-packages (from torchvision->vision-transformers==0.1.1.0) (1.22.4)\n",
            "Requirement already satisfied: requests in /usr/local/lib/python3.10/dist-packages (from torchvision->vision-transformers==0.1.1.0) (2.27.1)\n",
            "Requirement already satisfied: pillow!=8.3.*,>=5.3.0 in /usr/local/lib/python3.10/dist-packages (from torchvision->vision-transformers==0.1.1.0) (8.4.0)\n",
            "Requirement already satisfied: MarkupSafe>=2.0 in /usr/local/lib/python3.10/dist-packages (from jinja2->torch>=1.10->vision-transformers==0.1.1.0) (2.1.2)\n",
            "Requirement already satisfied: urllib3<1.27,>=1.21.1 in /usr/local/lib/python3.10/dist-packages (from requests->torchvision->vision-transformers==0.1.1.0) (1.26.15)\n",
            "Requirement already satisfied: certifi>=2017.4.17 in /usr/local/lib/python3.10/dist-packages (from requests->torchvision->vision-transformers==0.1.1.0) (2022.12.7)\n",
            "Requirement already satisfied: charset-normalizer~=2.0.0 in /usr/local/lib/python3.10/dist-packages (from requests->torchvision->vision-transformers==0.1.1.0) (2.0.12)\n",
            "Requirement already satisfied: idna<4,>=2.5 in /usr/local/lib/python3.10/dist-packages (from requests->torchvision->vision-transformers==0.1.1.0) (3.4)\n",
            "Requirement already satisfied: mpmath>=0.19 in /usr/local/lib/python3.10/dist-packages (from sympy->torch>=1.10->vision-transformers==0.1.1.0) (1.3.0)\n",
            "Building wheels for collected packages: vision-transformers\n",
            "  Building wheel for vision-transformers (setup.py) ... \u001b[?25l\u001b[?25hdone\n",
            "  Created wheel for vision-transformers: filename=vision_transformers-0.1.1.0-py3-none-any.whl size=55839 sha256=30e74797fcf8f54885c9eb0464f6f329dcc739275a18a54e7439caed1d85c252\n",
            "  Stored in directory: /tmp/pip-ephem-wheel-cache-ordj1f1b/wheels/db/87/51/ad39d99a4ddd263b0b6eddc048a426338fde648f1ae338b7f0\n",
            "Successfully built vision-transformers\n",
            "Installing collected packages: vision-transformers\n",
            "Successfully installed vision-transformers-0.1.1.0\n"
          ]
        }
      ]
    },
    {
      "cell_type": "code",
      "source": [
        "%cd .."
      ],
      "metadata": {
        "colab": {
          "base_uri": "https://localhost:8080/"
        },
        "id": "flg-HgskUY6o",
        "outputId": "c39aac03-f3e4-4899-d731-abf69d1ae108"
      },
      "id": "flg-HgskUY6o",
      "execution_count": 3,
      "outputs": [
        {
          "output_type": "stream",
          "name": "stdout",
          "text": [
            "/content\n"
          ]
        }
      ]
    },
    {
      "cell_type": "code",
      "execution_count": 4,
      "id": "cf353475",
      "metadata": {
        "id": "cf353475",
        "papermill": {
          "duration": 0.345585,
          "end_time": "2022-11-26T00:37:16.782119",
          "exception": false,
          "start_time": "2022-11-26T00:37:16.436534",
          "status": "completed"
        },
        "tags": []
      },
      "outputs": [],
      "source": [
        "import torch\n",
        "import torchvision\n",
        "import torchvision.transforms as transforms\n",
        "import matplotlib.pyplot as plt\n",
        "import matplotlib\n",
        "import torch.nn as nn\n",
        "import torch.optim as optim\n",
        "import os\n",
        "import cv2\n",
        "import numpy as np\n",
        "import shutil\n",
        "\n",
        "from tqdm import tqdm\n",
        "from vision_transformers.models import vit\n",
        "\n",
        "matplotlib.style.use('ggplot')"
      ]
    },
    {
      "cell_type": "code",
      "source": [
        "from google.colab import drive\n",
        "drive.mount('/content/drive')"
      ],
      "metadata": {
        "colab": {
          "base_uri": "https://localhost:8080/"
        },
        "id": "z7Dc4gN3TkNP",
        "outputId": "431b8033-4fb8-4969-f257-e13e44aa8b1b"
      },
      "id": "z7Dc4gN3TkNP",
      "execution_count": 5,
      "outputs": [
        {
          "output_type": "stream",
          "name": "stdout",
          "text": [
            "Mounted at /content/drive\n"
          ]
        }
      ]
    },
    {
      "cell_type": "code",
      "execution_count": 6,
      "id": "5816efd8",
      "metadata": {
        "id": "5816efd8",
        "papermill": {
          "duration": 0.01546,
          "end_time": "2022-11-26T00:37:16.802531",
          "exception": false,
          "start_time": "2022-11-26T00:37:16.787071",
          "status": "completed"
        },
        "tags": []
      },
      "outputs": [],
      "source": [
        "# Directories.\n",
        "PROJECT = 'FlameViTPretreined_lr_0.0005_3_6_2023'\n",
        "RES_DIR = os.path.join('/content/drive/MyDrive/results', PROJECT)\n",
        "if os.path.exists(RES_DIR):\n",
        "    shutil.rmtree(RES_DIR)\n",
        "os.makedirs(RES_DIR, exist_ok=True)\n",
        "PLOT_DIR = os.path.join('/content/drive/MyDrive/plots', PROJECT)\n",
        "os.makedirs(PLOT_DIR, exist_ok=True)\n",
        "CKPT_DIR = os.path.join('/content/drive/MyDrive/checkpoints', PROJECT)\n",
        "os.makedirs(CKPT_DIR, exist_ok=True)"
      ]
    },
    {
      "cell_type": "code",
      "execution_count": 7,
      "id": "6c527737",
      "metadata": {
        "colab": {
          "base_uri": "https://localhost:8080/"
        },
        "id": "6c527737",
        "outputId": "7636dd55-678b-4f06-d21f-ae43441afd56",
        "papermill": {
          "duration": 0.072189,
          "end_time": "2022-11-26T00:37:16.879233",
          "exception": false,
          "start_time": "2022-11-26T00:37:16.807044",
          "status": "completed"
        },
        "tags": []
      },
      "outputs": [
        {
          "output_type": "stream",
          "name": "stdout",
          "text": [
            "[INFO]: Computation device: cuda\n"
          ]
        }
      ],
      "source": [
        "device = torch.device('cuda' if torch.cuda.is_available() else 'cpu')\n",
        "print(f\"[INFO]: Computation device: {device}\")\n",
        "epochs = 10\n",
        "image_size=224"
      ]
    },
    {
      "cell_type": "code",
      "execution_count": 8,
      "id": "43893190",
      "metadata": {
        "id": "43893190",
        "papermill": {
          "duration": 0.014035,
          "end_time": "2022-11-26T00:37:16.897980",
          "exception": false,
          "start_time": "2022-11-26T00:37:16.883945",
          "status": "completed"
        },
        "tags": []
      },
      "outputs": [],
      "source": [
        "RESIZE_TO = (image_size, image_size)\n",
        "\n",
        "train_transform = transforms.Compose(\n",
        "    [transforms.Resize(RESIZE_TO),\n",
        "     transforms.RandAugment(num_ops=0),\n",
        "     transforms.ToTensor(),\n",
        "     transforms.Normalize(\n",
        "        mean=[0.485, 0.456, 0.406],\n",
        "        std=[0.229, 0.224, 0.225])\n",
        "    ])\n",
        "valid_transform = transforms.Compose(\n",
        "    [transforms.Resize(RESIZE_TO),\n",
        "     transforms.ToTensor(),\n",
        "     transforms.Normalize(\n",
        "        mean=[0.485, 0.456, 0.406],\n",
        "        std=[0.229, 0.224, 0.225])\n",
        "    ])"
      ]
    },
    {
      "cell_type": "code",
      "source": [
        "import zipfile\n",
        "\n",
        "def unzip_file(zip_path, extract_path):\n",
        "    with zipfile.ZipFile(zip_path, 'r') as zip_ref:\n",
        "        zip_ref.extractall(extract_path)\n",
        "\n",
        "# Example usage\n",
        "zip_path = '/content/drive/MyDrive/Test.zip'  # Path to the zip file\n",
        "  # Path where you want to extract the files\n",
        "\n",
        "unzip_file(zip_path,\".\")\n",
        "\n",
        "import zipfile\n",
        "\n",
        "def unzip_file(zip_path, extract_path):\n",
        "    with zipfile.ZipFile(zip_path, 'r') as zip_ref:\n",
        "        zip_ref.extractall(extract_path)\n",
        "\n",
        "# Example usage\n",
        "zip_path = '/content/drive/MyDrive/Training.zip'  # Path to the zip file\n",
        "  # Path where you want to extract the files\n",
        "\n",
        "unzip_file(zip_path,\".\")\n"
      ],
      "metadata": {
        "id": "Wtjr-aVQUAuh"
      },
      "id": "Wtjr-aVQUAuh",
      "execution_count": 9,
      "outputs": []
    },
    {
      "cell_type": "code",
      "execution_count": 10,
      "id": "tb8rKm7DUxmj",
      "metadata": {
        "id": "tb8rKm7DUxmj"
      },
      "outputs": [],
      "source": [
        "import torchvision.transforms as transforms\n",
        "from torch.utils.data import Dataset, DataLoader\n",
        "from torchvision.datasets import ImageFolder\n",
        "\n",
        "# Define the transforms for training and validation\n",
        "train_transform = transforms.Compose([\n",
        "    transforms.Resize((224, 224)),  # Resize the images to the desired size\n",
        "    transforms.ToTensor(),  # Convert images to tensors\n",
        "    transforms.Normalize((0.5, 0.5, 0.5), (0.5, 0.5, 0.5)),  # Normalize the image pixel values\n",
        "])\n",
        "\n",
        "valid_transform = transforms.Compose([\n",
        "    transforms.Resize((224, 224)),\n",
        "    transforms.ToTensor(),\n",
        "    transforms.Normalize((0.5, 0.5, 0.5), (0.5, 0.5, 0.5)),\n",
        "])\n",
        "\n",
        "# Define a custom dataset class\n",
        "class CustomDataset(Dataset):\n",
        "    def __init__(self, root, transform=None):\n",
        "        self.dataset = ImageFolder(root, transform=transform)\n",
        "        self.classes=['Fire','No_Fire']\n",
        "\n",
        "    def __len__(self):\n",
        "        return len(self.dataset)\n",
        "\n",
        "    def __getitem__(self, index):\n",
        "        image, label = self.dataset[index]\n",
        "        return image, label\n",
        "\n",
        "# Set the paths to your train and test folders\n",
        "train_folder = 'Training'\n",
        "test_folder = 'Test'\n",
        "\n",
        "# Instantiate the custom datasets\n",
        "train_dataset = CustomDataset(train_folder, transform=train_transform)\n",
        "valid_dataset = CustomDataset(test_folder, transform=valid_transform)\n",
        "\n",
        "# Set your desired batch size\n",
        "batch_size = 16\n",
        "\n",
        "# Create the data loaders\n",
        "train_dataloader = DataLoader(train_dataset, batch_size=batch_size, shuffle=True)\n",
        "valid_dataloader = DataLoader(valid_dataset, batch_size=batch_size, shuffle=False)\n"
      ]
    },
    {
      "cell_type": "code",
      "execution_count": 11,
      "id": "88c987b8",
      "metadata": {
        "colab": {
          "base_uri": "https://localhost:8080/"
        },
        "id": "88c987b8",
        "outputId": "d162090d-288d-4156-c7a4-bb5056f68d52",
        "papermill": {
          "duration": 0.015358,
          "end_time": "2022-11-26T00:37:25.005387",
          "exception": false,
          "start_time": "2022-11-26T00:37:24.990029",
          "status": "completed"
        },
        "tags": []
      },
      "outputs": [
        {
          "output_type": "stream",
          "name": "stdout",
          "text": [
            "['Fire', 'No_Fire']\n"
          ]
        }
      ],
      "source": [
        "print(train_dataset.classes)"
      ]
    },
    {
      "cell_type": "code",
      "execution_count": 12,
      "id": "8cf59e36",
      "metadata": {
        "colab": {
          "base_uri": "https://localhost:8080/"
        },
        "id": "8cf59e36",
        "outputId": "0cf56b85-73b7-4faf-c263-71fee1fca912",
        "papermill": {
          "duration": 2.803145,
          "end_time": "2022-11-26T00:37:27.813686",
          "exception": false,
          "start_time": "2022-11-26T00:37:25.010541",
          "status": "completed"
        },
        "scrolled": true,
        "tags": []
      },
      "outputs": [
        {
          "output_type": "stream",
          "name": "stdout",
          "text": [
            "Loading vit_b_p16_224 pretrained weights\n"
          ]
        },
        {
          "output_type": "stream",
          "name": "stderr",
          "text": [
            "Downloading: \"https://download.pytorch.org/models/vit_b_16-c867db91.pth\" to /root/.cache/torch/hub/checkpoints/vit_b_16-c867db91.pth\n",
            "100%|██████████| 330M/330M [00:05<00:00, 64.3MB/s]\n"
          ]
        },
        {
          "output_type": "stream",
          "name": "stdout",
          "text": [
            "Loading Torchvision pretrained weights\n"
          ]
        }
      ],
      "source": [
        "# instantiate the model\n",
        "model = vit.vit_b_p16_224(\n",
        "    image_size=224, pretrained=True\n",
        ").to(device)\n",
        "# print(model)"
      ]
    },
    {
      "cell_type": "code",
      "execution_count": 13,
      "id": "ebae767a",
      "metadata": {
        "colab": {
          "base_uri": "https://localhost:8080/"
        },
        "id": "ebae767a",
        "outputId": "75fe9ca1-5417-4c4e-f893-1195d8c3fadb",
        "scrolled": true,
        "tags": []
      },
      "outputs": [
        {
          "output_type": "stream",
          "name": "stdout",
          "text": [
            "ViT(\n",
            "  (patches): CreatePatches(\n",
            "    (patch): Conv2d(3, 768, kernel_size=(16, 16), stride=(16, 16))\n",
            "  )\n",
            "  (dropout): Dropout(p=0.0, inplace=False)\n",
            "  (transformer): Transformer(\n",
            "    (layers): ModuleList(\n",
            "      (0-11): 12 x ModuleList(\n",
            "        (0): Normalization(\n",
            "          (norm): LayerNorm((768,), eps=1e-06, elementwise_affine=True)\n",
            "          (fn): Attention(\n",
            "            (qkv): Linear(in_features=768, out_features=2304, bias=True)\n",
            "            (out): Sequential(\n",
            "              (0): Linear(in_features=768, out_features=768, bias=True)\n",
            "              (1): Dropout(p=0.0, inplace=False)\n",
            "            )\n",
            "          )\n",
            "        )\n",
            "        (1): Normalization(\n",
            "          (norm): LayerNorm((768,), eps=1e-06, elementwise_affine=True)\n",
            "          (fn): MLP(\n",
            "            (mlp_net): Sequential(\n",
            "              (0): Linear(in_features=768, out_features=3072, bias=True)\n",
            "              (1): GELU(approximate='none')\n",
            "              (2): Dropout(p=0.0, inplace=False)\n",
            "              (3): Linear(in_features=3072, out_features=768, bias=True)\n",
            "              (4): Dropout(p=0.0, inplace=False)\n",
            "            )\n",
            "          )\n",
            "        )\n",
            "      )\n",
            "    )\n",
            "  )\n",
            "  (ln): LayerNorm((768,), eps=1e-06, elementwise_affine=True)\n",
            "  (latent): Identity()\n",
            "  (mlp_head): Linear(in_features=768, out_features=2, bias=True)\n",
            ")\n"
          ]
        }
      ],
      "source": [
        "model.mlp_head = nn.Linear(in_features=768, out_features=2, bias=True)\n",
        "_ = model.to(device)\n",
        "print(model)"
      ]
    },
    {
      "cell_type": "code",
      "execution_count": 14,
      "id": "8a6c1564-d8e4-4c94-a8d1-18552dfc42fe",
      "metadata": {
        "colab": {
          "base_uri": "https://localhost:8080/"
        },
        "id": "8a6c1564-d8e4-4c94-a8d1-18552dfc42fe",
        "outputId": "00e8adfc-6600-4c88-d765-bda9c166f55b"
      },
      "outputs": [
        {
          "output_type": "stream",
          "name": "stdout",
          "text": [
            "[INFO]: 85,800,194 total parameters.\n",
            "[INFO]: 85,800,194 trainable parameters.\n"
          ]
        }
      ],
      "source": [
        "# total parameters and trainable parameters\n",
        "total_params = sum(p.numel() for p in model.parameters())\n",
        "print(f\"[INFO]: {total_params:,} total parameters.\")\n",
        "total_trainable_params = sum(\n",
        "    p.numel() for p in model.parameters() if p.requires_grad)\n",
        "print(f\"[INFO]: {total_trainable_params:,} trainable parameters.\")\n",
        "\n",
        "# the loss function\n",
        "criterion = nn.CrossEntropyLoss()\n",
        "# the optimizer\n",
        "optimizer = optim.SGD(model.parameters(), lr=0.0005, momentum=0.9, \n",
        "                      weight_decay=0.0005)"
      ]
    },
    {
      "cell_type": "code",
      "execution_count": 15,
      "id": "f8d59f82",
      "metadata": {
        "id": "f8d59f82",
        "papermill": {
          "duration": 0.015459,
          "end_time": "2022-11-26T00:37:27.835413",
          "exception": false,
          "start_time": "2022-11-26T00:37:27.819954",
          "status": "completed"
        },
        "tags": []
      },
      "outputs": [],
      "source": [
        "# training\n",
        "def train(model, trainloader, optimizer, criterion):\n",
        "    model.train()\n",
        "    print('Training')\n",
        "    train_running_loss = 0.0\n",
        "    train_running_correct = 0\n",
        "    counter = 0\n",
        "    for i, data in tqdm(enumerate(trainloader), total=len(trainloader)):\n",
        "        counter += 1\n",
        "\n",
        "        image, labels = data\n",
        "        image = image.to(device)\n",
        "        labels = labels.to(device)\n",
        "\n",
        "        optimizer.zero_grad()\n",
        "        # forward pass\n",
        "        outputs = model(image)\n",
        "        # calculate the loss\n",
        "        loss = criterion(outputs, labels)\n",
        "        train_running_loss += loss.item()\n",
        "        # calculate the accuracy\n",
        "        _, preds = torch.max(outputs.data, 1)\n",
        "        train_running_correct += (preds == labels).sum().item()\n",
        "        loss.backward()\n",
        "        optimizer.step()\n",
        "    \n",
        "    epoch_loss = train_running_loss / counter\n",
        "    epoch_acc = 100. * (train_running_correct / len(trainloader.dataset))\n",
        "    return epoch_loss, epoch_acc\n"
      ]
    },
    {
      "cell_type": "code",
      "execution_count": 16,
      "id": "c6531993",
      "metadata": {
        "id": "c6531993",
        "papermill": {
          "duration": 0.02293,
          "end_time": "2022-11-26T00:37:27.863305",
          "exception": false,
          "start_time": "2022-11-26T00:37:27.840375",
          "status": "completed"
        },
        "tags": []
      },
      "outputs": [],
      "source": [
        "# validation\n",
        "def validate(model, testloader, criterion, classes):\n",
        "    model.eval()\n",
        "    \n",
        "    # we need two lists to keep track of class-wise accuracy\n",
        "    class_correct = list(0. for i in range(10))\n",
        "    class_total = list(0. for i in range(10))\n",
        "\n",
        "    print('Validation')\n",
        "    valid_running_loss = 0.0\n",
        "    valid_running_correct = 0\n",
        "    counter = 0\n",
        "    with torch.no_grad():\n",
        "        for i, data in tqdm(enumerate(testloader), total=len(testloader)):\n",
        "            counter += 1\n",
        "            \n",
        "            image, labels = data\n",
        "            image = image.to(device)\n",
        "            labels = labels.to(device)\n",
        "\n",
        "            # forward pass\n",
        "            outputs = model(image)\n",
        "            # calculate the loss\n",
        "            loss = criterion(outputs, labels)\n",
        "            valid_running_loss += loss.item()\n",
        "            # calculate the accuracy\n",
        "            _, preds = torch.max(outputs.data, 1)\n",
        "            valid_running_correct += (preds == labels).sum().item()\n",
        "                        \n",
        "            if counter == 1:\n",
        "                gt_color = (0, 255, 0)\n",
        "                for i in range(image.shape[0]):\n",
        "                    gt_class = classes[labels[i].cpu().numpy()]\n",
        "                    pred_class = classes[preds[i].cpu().numpy()]\n",
        "                    if gt_class == pred_class:\n",
        "                        pred_color = gt_color\n",
        "                    else:\n",
        "                        pred_color = (0, 0, 255)\n",
        "                    img_to_write = image[i].cpu()\n",
        "                    img_to_write = img_to_write / 2 + 0.5\n",
        "                    img_to_write = img_to_write.numpy()\n",
        "                    img_to_write = np.transpose(img_to_write, (1, 2, 0))\n",
        "                    img_to_write = cv2.resize(img_to_write, (224, 224))\n",
        "                    img_to_write = cv2.cvtColor(img_to_write, cv2.COLOR_RGB2BGR)\n",
        "                    cv2.putText(\n",
        "                        img_to_write,\n",
        "                        text=f\"GT: {gt_class}\",\n",
        "                        org=(15, 25),\n",
        "                        fontFace=cv2.FONT_HERSHEY_SIMPLEX,\n",
        "                        fontScale=0.75,\n",
        "                        color=gt_color,\n",
        "                        thickness=2,\n",
        "                        lineType=cv2.LINE_AA\n",
        "                    )\n",
        "                    cv2.putText(\n",
        "                        img_to_write,\n",
        "                        text=f\"PRED: {pred_class}\",\n",
        "                        org=(15, 60),\n",
        "                        fontFace=cv2.FONT_HERSHEY_SIMPLEX,\n",
        "                        fontScale=0.75,\n",
        "                        color=pred_color,\n",
        "                        thickness=2,\n",
        "                        lineType=cv2.LINE_AA\n",
        "                    )\n",
        "                    cv2.imwrite(\n",
        "                        os.path.join(RES_DIR, 'image_batch'+str(counter)+'image'+str(i)+'.jpg'), \n",
        "                        img_to_write*255.\n",
        "                    )\n",
        "\n",
        "            # calculate the accuracy for each class\n",
        "            correct  = (preds == labels).squeeze()\n",
        "            for i in range(len(preds)):\n",
        "                label = labels[i]\n",
        "                class_correct[label] += correct[i].item()\n",
        "                class_total[label] += 1\n",
        "        \n",
        "    epoch_loss = valid_running_loss / counter\n",
        "    epoch_acc = 100. * (valid_running_correct / len(testloader.dataset))\n",
        "\n",
        "    # print the accuracy for each class after evey epoch\n",
        "    # the values should increase as the training goes on\n",
        "    print('\\n')\n",
        "    for i in range(2):\n",
        "        print(f\"Accuracy of {classes[i]}: {100*class_correct[i]/class_total[i]}\")\n",
        "\n",
        "    return epoch_loss, epoch_acc\n"
      ]
    },
    {
      "cell_type": "code",
      "execution_count": 17,
      "id": "93647d88",
      "metadata": {
        "colab": {
          "base_uri": "https://localhost:8080/"
        },
        "id": "93647d88",
        "outputId": "4aae7212-e4b9-4a2d-d8e4-b6b8cb7fa474",
        "papermill": {
          "duration": 20812.644397,
          "end_time": "2022-11-26T06:24:20.512628",
          "exception": false,
          "start_time": "2022-11-26T00:37:27.868231",
          "status": "completed"
        },
        "tags": []
      },
      "outputs": [
        {
          "output_type": "stream",
          "name": "stdout",
          "text": [
            "[INFO]: Epoch 1 of 10\n",
            "Training\n"
          ]
        },
        {
          "output_type": "stream",
          "name": "stderr",
          "text": [
            "100%|██████████| 2461/2461 [20:34<00:00,  1.99it/s]\n"
          ]
        },
        {
          "output_type": "stream",
          "name": "stdout",
          "text": [
            "Validation\n"
          ]
        },
        {
          "output_type": "stream",
          "name": "stderr",
          "text": [
            "100%|██████████| 539/539 [02:06<00:00,  4.28it/s]\n"
          ]
        },
        {
          "output_type": "stream",
          "name": "stdout",
          "text": [
            "\n",
            "\n",
            "Accuracy of Fire: 84.97177340860425\n",
            "Accuracy of No_Fire: 68.50574712643679\n",
            "\n",
            "\n",
            "Training loss: 0.015, training acc: 99.553\n",
            "Validation loss: 0.563, validation acc: 78.322\n",
            "--------------------------------------------------\n",
            "[INFO]: Epoch 2 of 10\n",
            "Training\n"
          ]
        },
        {
          "output_type": "stream",
          "name": "stderr",
          "text": [
            "100%|██████████| 2461/2461 [20:27<00:00,  2.00it/s]\n"
          ]
        },
        {
          "output_type": "stream",
          "name": "stdout",
          "text": [
            "Validation\n"
          ]
        },
        {
          "output_type": "stream",
          "name": "stderr",
          "text": [
            "100%|██████████| 539/539 [02:04<00:00,  4.34it/s]\n"
          ]
        },
        {
          "output_type": "stream",
          "name": "stdout",
          "text": [
            "\n",
            "\n",
            "Accuracy of Fire: 94.70508078645123\n",
            "Accuracy of No_Fire: 24.137931034482758\n",
            "\n",
            "\n",
            "Training loss: 0.004, training acc: 99.881\n",
            "Validation loss: 1.210, validation acc: 66.206\n",
            "--------------------------------------------------\n",
            "[INFO]: Epoch 3 of 10\n",
            "Training\n"
          ]
        },
        {
          "output_type": "stream",
          "name": "stderr",
          "text": [
            "100%|██████████| 2461/2461 [20:27<00:00,  2.00it/s]\n"
          ]
        },
        {
          "output_type": "stream",
          "name": "stdout",
          "text": [
            "Validation\n"
          ]
        },
        {
          "output_type": "stream",
          "name": "stderr",
          "text": [
            "100%|██████████| 539/539 [02:03<00:00,  4.36it/s]\n"
          ]
        },
        {
          "output_type": "stream",
          "name": "stdout",
          "text": [
            "\n",
            "\n",
            "Accuracy of Fire: 93.69281681915515\n",
            "Accuracy of No_Fire: 33.50574712643678\n",
            "\n",
            "\n",
            "Training loss: 0.001, training acc: 99.975\n",
            "Validation loss: 1.127, validation acc: 69.386\n",
            "--------------------------------------------------\n",
            "[INFO]: Epoch 4 of 10\n",
            "Training\n"
          ]
        },
        {
          "output_type": "stream",
          "name": "stderr",
          "text": [
            "100%|██████████| 2461/2461 [20:27<00:00,  2.01it/s]\n"
          ]
        },
        {
          "output_type": "stream",
          "name": "stdout",
          "text": [
            "Validation\n"
          ]
        },
        {
          "output_type": "stream",
          "name": "stderr",
          "text": [
            "100%|██████████| 539/539 [02:03<00:00,  4.36it/s]\n"
          ]
        },
        {
          "output_type": "stream",
          "name": "stdout",
          "text": [
            "\n",
            "\n",
            "Accuracy of Fire: 90.9090909090909\n",
            "Accuracy of No_Fire: 56.724137931034484\n",
            "\n",
            "\n",
            "Training loss: 0.001, training acc: 99.987\n",
            "Validation loss: 0.759, validation acc: 77.103\n",
            "--------------------------------------------------\n",
            "[INFO]: Epoch 5 of 10\n",
            "Training\n"
          ]
        },
        {
          "output_type": "stream",
          "name": "stderr",
          "text": [
            "100%|██████████| 2461/2461 [20:28<00:00,  2.00it/s]\n"
          ]
        },
        {
          "output_type": "stream",
          "name": "stdout",
          "text": [
            "Validation\n"
          ]
        },
        {
          "output_type": "stream",
          "name": "stderr",
          "text": [
            "100%|██████████| 539/539 [02:03<00:00,  4.36it/s]\n"
          ]
        },
        {
          "output_type": "stream",
          "name": "stdout",
          "text": [
            "\n",
            "\n",
            "Accuracy of Fire: 93.36188436830835\n",
            "Accuracy of No_Fire: 46.7816091954023\n",
            "\n",
            "\n",
            "Training loss: 0.001, training acc: 99.987\n",
            "Validation loss: 0.923, validation acc: 74.550\n",
            "--------------------------------------------------\n",
            "[INFO]: Epoch 6 of 10\n",
            "Training\n"
          ]
        },
        {
          "output_type": "stream",
          "name": "stderr",
          "text": [
            "100%|██████████| 2461/2461 [20:29<00:00,  2.00it/s]\n"
          ]
        },
        {
          "output_type": "stream",
          "name": "stdout",
          "text": [
            "Validation\n"
          ]
        },
        {
          "output_type": "stream",
          "name": "stderr",
          "text": [
            "100%|██████████| 539/539 [02:03<00:00,  4.35it/s]\n"
          ]
        },
        {
          "output_type": "stream",
          "name": "stdout",
          "text": [
            "\n",
            "\n",
            "Accuracy of Fire: 92.33015378625657\n",
            "Accuracy of No_Fire: 51.293103448275865\n",
            "\n",
            "\n",
            "Training loss: 0.000, training acc: 100.000\n",
            "Validation loss: 0.833, validation acc: 75.757\n",
            "--------------------------------------------------\n",
            "[INFO]: Epoch 7 of 10\n",
            "Training\n"
          ]
        },
        {
          "output_type": "stream",
          "name": "stderr",
          "text": [
            "100%|██████████| 2461/2461 [20:28<00:00,  2.00it/s]\n"
          ]
        },
        {
          "output_type": "stream",
          "name": "stdout",
          "text": [
            "Validation\n"
          ]
        },
        {
          "output_type": "stream",
          "name": "stderr",
          "text": [
            "100%|██████████| 539/539 [02:04<00:00,  4.32it/s]\n"
          ]
        },
        {
          "output_type": "stream",
          "name": "stdout",
          "text": [
            "\n",
            "\n",
            "Accuracy of Fire: 93.05041853221725\n",
            "Accuracy of No_Fire: 47.241379310344826\n",
            "\n",
            "\n",
            "Training loss: 0.000, training acc: 100.000\n",
            "Validation loss: 0.901, validation acc: 74.550\n",
            "--------------------------------------------------\n",
            "[INFO]: Epoch 8 of 10\n",
            "Training\n"
          ]
        },
        {
          "output_type": "stream",
          "name": "stderr",
          "text": [
            "100%|██████████| 2461/2461 [20:27<00:00,  2.01it/s]\n"
          ]
        },
        {
          "output_type": "stream",
          "name": "stdout",
          "text": [
            "Validation\n"
          ]
        },
        {
          "output_type": "stream",
          "name": "stderr",
          "text": [
            "100%|██████████| 539/539 [02:04<00:00,  4.33it/s]\n"
          ]
        },
        {
          "output_type": "stream",
          "name": "stdout",
          "text": [
            "\n",
            "\n",
            "Accuracy of Fire: 92.5637531633249\n",
            "Accuracy of No_Fire: 50.172413793103445\n",
            "\n",
            "\n",
            "Training loss: 0.000, training acc: 100.000\n",
            "Validation loss: 0.844, validation acc: 75.444\n",
            "--------------------------------------------------\n",
            "[INFO]: Epoch 9 of 10\n",
            "Training\n"
          ]
        },
        {
          "output_type": "stream",
          "name": "stderr",
          "text": [
            "100%|██████████| 2461/2461 [20:27<00:00,  2.01it/s]\n"
          ]
        },
        {
          "output_type": "stream",
          "name": "stdout",
          "text": [
            "Validation\n"
          ]
        },
        {
          "output_type": "stream",
          "name": "stderr",
          "text": [
            "100%|██████████| 539/539 [02:04<00:00,  4.32it/s]\n"
          ]
        },
        {
          "output_type": "stream",
          "name": "stdout",
          "text": [
            "\n",
            "\n",
            "Accuracy of Fire: 91.6098890402959\n",
            "Accuracy of No_Fire: 54.88505747126437\n",
            "\n",
            "\n",
            "Training loss: 0.000, training acc: 100.000\n",
            "Validation loss: 0.766, validation acc: 76.778\n",
            "--------------------------------------------------\n",
            "[INFO]: Epoch 10 of 10\n",
            "Training\n"
          ]
        },
        {
          "output_type": "stream",
          "name": "stderr",
          "text": [
            "100%|██████████| 2461/2461 [20:26<00:00,  2.01it/s]\n"
          ]
        },
        {
          "output_type": "stream",
          "name": "stdout",
          "text": [
            "Validation\n"
          ]
        },
        {
          "output_type": "stream",
          "name": "stderr",
          "text": [
            "100%|██████████| 539/539 [02:05<00:00,  4.30it/s]"
          ]
        },
        {
          "output_type": "stream",
          "name": "stdout",
          "text": [
            "\n",
            "\n",
            "Accuracy of Fire: 91.99922133540977\n",
            "Accuracy of No_Fire: 52.52873563218391\n",
            "\n",
            "\n",
            "Training loss: 0.000, training acc: 100.000\n",
            "Validation loss: 0.803, validation acc: 76.059\n",
            "--------------------------------------------------\n"
          ]
        },
        {
          "output_type": "stream",
          "name": "stderr",
          "text": [
            "\n"
          ]
        }
      ],
      "source": [
        "# start the training\n",
        "# lists to keep track of losses and accuracies\n",
        "train_loss, valid_loss = [], []\n",
        "train_acc, valid_acc = [], []\n",
        "for epoch in range(epochs):\n",
        "    print(f\"[INFO]: Epoch {epoch+1} of {epochs}\")\n",
        "\n",
        "    train_epoch_loss, train_epoch_acc = train(\n",
        "        model, \n",
        "        train_dataloader,                                       \n",
        "        optimizer, \n",
        "        criterion\n",
        "    )\n",
        "    valid_epoch_loss, valid_epoch_acc = validate(\n",
        "        model, \n",
        "        valid_dataloader,  \n",
        "        criterion,\n",
        "        train_dataset.classes\n",
        "    )\n",
        "    train_loss.append(train_epoch_loss)\n",
        "    valid_loss.append(valid_epoch_loss)\n",
        "    train_acc.append(train_epoch_acc)\n",
        "    valid_acc.append(valid_epoch_acc)\n",
        "\n",
        "    print('\\n')\n",
        "    print(f\"Training loss: {train_epoch_loss:.3f}, training acc: {train_epoch_acc:.3f}\")\n",
        "    print(f\"Validation loss: {valid_epoch_loss:.3f}, validation acc: {valid_epoch_acc:.3f}\")\n",
        "\n",
        "    print('-'*50)\n"
      ]
    },
    {
      "cell_type": "code",
      "execution_count": 18,
      "id": "b2c8b9e2",
      "metadata": {
        "id": "b2c8b9e2",
        "papermill": {
          "duration": 0.500784,
          "end_time": "2022-11-26T06:24:21.193717",
          "exception": false,
          "start_time": "2022-11-26T06:24:20.692933",
          "status": "completed"
        },
        "tags": []
      },
      "outputs": [],
      "source": [
        "# save the trained model to disk\n",
        "torch.save({\n",
        "            'epoch': epochs,\n",
        "            'model_state_dict': model.state_dict(),\n",
        "            'optimizer_state_dict': optimizer.state_dict(),\n",
        "            'loss': criterion,\n",
        "            },  os.path.join(CKPT_DIR, 'vitmodel_0.0005.pth'))"
      ]
    },
    {
      "cell_type": "code",
      "execution_count": 19,
      "id": "7e1ffde3",
      "metadata": {
        "id": "7e1ffde3",
        "papermill": {
          "duration": 1.17904,
          "end_time": "2022-11-26T06:24:22.590014",
          "exception": false,
          "start_time": "2022-11-26T06:24:21.410974",
          "status": "completed"
        },
        "tags": [],
        "colab": {
          "base_uri": "https://localhost:8080/",
          "height": 1000
        },
        "outputId": "0afb8c71-66da-47dd-9dcc-4b35c9079f46"
      },
      "outputs": [
        {
          "output_type": "display_data",
          "data": {
            "text/plain": [
              "<Figure size 1000x700 with 1 Axes>"
            ],
            "image/png": "[encoded data removed]"
          },
          "metadata": {}
        },
        {
          "output_type": "display_data",
          "data": {
            "text/plain": [
              "<Figure size 1000x700 with 1 Axes>"
            ],
            "image/png": "[encoded data removed]"
          },
          "metadata": {}
        },
        {
          "output_type": "stream",
          "name": "stdout",
          "text": [
            "TRAINING COMPLETE\n"
          ]
        }
      ],
      "source": [
        "# accuracy plots\n",
        "plt.figure(figsize=(10, 7))\n",
        "plt.plot(\n",
        "    train_acc, color='green', linestyle='-', \n",
        "    label='train accuracy'\n",
        ")\n",
        "plt.plot(\n",
        "    valid_acc, color='blue', linestyle='-', \n",
        "    label='validataion accuracy'\n",
        ")\n",
        "plt.xlabel('Epochs')\n",
        "plt.ylabel('Accuracy')\n",
        "plt.legend()\n",
        "plt.savefig(os.path.join(PLOT_DIR, 'accuracy.png'))\n",
        "plt.show()\n",
        "# loss plots\n",
        "plt.figure(figsize=(10, 7))\n",
        "plt.plot(\n",
        "    train_loss, color='orange', linestyle='-', \n",
        "    label='train loss'\n",
        ")\n",
        "plt.plot(\n",
        "    valid_loss, color='red', linestyle='-', \n",
        "    label='validataion loss'\n",
        ")\n",
        "plt.xlabel('Epochs')\n",
        "plt.ylabel('Loss')\n",
        "plt.legend()\n",
        "plt.savefig(os.path.join(PLOT_DIR, 'loss.png'))\n",
        "plt.show()\n",
        " \n",
        "print('TRAINING COMPLETE')"
      ]
    },
    {
      "cell_type": "code",
      "source": [
        "from sklearn.metrics import confusion_matrix, classification_report\n",
        "import matplotlib.pyplot as plt\n",
        "import seaborn as sns\n",
        "\n",
        "def validate(model, testloader, criterion, classes):\n",
        "    model.eval()\n",
        "    \n",
        "    # we need two lists to keep track of class-wise accuracy\n",
        "    class_correct = list(0. for i in range(2))\n",
        "    class_total = list(0. for i in range(2))\n",
        "\n",
        "    print('Validation')\n",
        "    valid_running_loss = 0.0\n",
        "    valid_running_correct = 0\n",
        "    counter = 0\n",
        "    all_preds = []\n",
        "    all_labels = []\n",
        "    \n",
        "    with torch.no_grad():\n",
        "        for i, data in tqdm(enumerate(testloader), total=len(testloader)):\n",
        "            counter += 1\n",
        "            \n",
        "            image, labels = data\n",
        "            image = image.to(device)\n",
        "            labels = labels.to(device)\n",
        "\n",
        "            # forward pass\n",
        "            outputs = model(image)\n",
        "            # calculate the loss\n",
        "            loss = criterion(outputs, labels)\n",
        "            valid_running_loss += loss.item()\n",
        "            # calculate the accuracy\n",
        "            _, preds = torch.max(outputs.data, 1)\n",
        "            valid_running_correct += (preds == labels).sum().item()\n",
        "            \n",
        "            all_preds.extend(preds.tolist())\n",
        "            all_labels.extend(labels.tolist())\n",
        "\n",
        "            \n",
        "\n",
        "            # calculate the accuracy for each class\n",
        "            correct = (preds == labels).squeeze()\n",
        "            for i in range(len(preds)):\n",
        "                label = labels[i]\n",
        "                class_correct[label] += correct[i].item()\n",
        "                class_total[label] += 1\n",
        "\n",
        "    epoch_loss = valid_running_loss / counter\n",
        "    epoch_acc = 100. * (valid_running_correct / len(testloader.dataset))\n",
        "\n",
        "    # print the accuracy for each class after every epoch\n",
        "    # the values should increase as the training goes on\n",
        "    print('\\n')\n",
        "    for i in range(len(classes)):\n",
        "        print(f\"Accuracy of {classes[i]}: {100*class_correct[i]/class_total[i]}\")\n",
        "\n",
        "    # calculate the confusion matrix\n",
        "    confusion_mat = confusion_matrix(all_labels, all_preds)\n",
        "    print(\"\\nConfusion Matrix:\")\n",
        "    print(confusion_mat)\n",
        "\n",
        "    # Plot confusion matrix\n",
        "    plt.figure(figsize=(8, 6))\n",
        "    sns.heatmap(confusion_mat, annot=True, fmt='d', cmap='Blues', cbar=False,\n",
        "                xticklabels=classes, yticklabels=classes)\n",
        "    plt.title(\"Confusion Matrix\")\n",
        "    plt.xlabel(\"Predicted Label\")\n",
        "    plt.ylabel(\"True Label\")\n",
        "    plt.show()\n",
        "\n",
        "    # calculate other metrics\n",
        "    report = classification_report(all_labels, all_preds, target_names=classes)\n",
        "    print(\"\\nClassification Report:\")\n",
        "    print(report)\n",
        "\n",
        "    return epoch_loss, epoch_acc\n"
      ],
      "metadata": {
        "id": "nXYV6WOZzCeE"
      },
      "id": "nXYV6WOZzCeE",
      "execution_count": 27,
      "outputs": []
    },
    {
      "cell_type": "code",
      "source": [
        "valid_epoch_loss, valid_epoch_acc = validate(\n",
        "        model, \n",
        "        valid_dataloader,  \n",
        "        criterion,\n",
        "        train_dataset.classes\n",
        "    )"
      ],
      "metadata": {
        "colab": {
          "base_uri": "https://localhost:8080/",
          "height": 933
        },
        "id": "flSstI4nzExz",
        "outputId": "d98fb2da-701e-4e54-e23d-e2be11dd2758"
      },
      "id": "flSstI4nzExz",
      "execution_count": 28,
      "outputs": [
        {
          "output_type": "stream",
          "name": "stdout",
          "text": [
            "Validation\n"
          ]
        },
        {
          "output_type": "stream",
          "name": "stderr",
          "text": [
            "100%|██████████| 539/539 [02:11<00:00,  4.11it/s]\n"
          ]
        },
        {
          "output_type": "stream",
          "name": "stdout",
          "text": [
            "\n",
            "\n",
            "Accuracy of Fire: 91.99922133540977\n",
            "Accuracy of No_Fire: 52.52873563218391\n",
            "\n",
            "Confusion Matrix:\n",
            "[[4726  411]\n",
            " [1652 1828]]\n"
          ]
        },
        {
          "output_type": "display_data",
          "data": {
            "text/plain": [
              "<Figure size 800x600 with 1 Axes>"
            ],
            "image/png": "[encoded data removed]"
          },
          "metadata": {}
        },
        {
          "output_type": "stream",
          "name": "stdout",
          "text": [
            "\n",
            "Classification Report:\n",
            "              precision    recall  f1-score   support\n",
            "\n",
            "        Fire       0.74      0.92      0.82      5137\n",
            "     No_Fire       0.82      0.53      0.64      3480\n",
            "\n",
            "    accuracy                           0.76      8617\n",
            "   macro avg       0.78      0.72      0.73      8617\n",
            "weighted avg       0.77      0.76      0.75      8617\n",
            "\n"
          ]
        }
      ]
    }
  ],
  "metadata": {
    "accelerator": "GPU",
    "colab": {
      "gpuType": "T4",
      "provenance": [],
      "include_colab_link": true
    },
    "kernelspec": {
      "display_name": "Python 3",
      "name": "python3"
    },
    "language_info": {
      "codemirror_mode": {
        "name": "ipython",
        "version": 3
      },
      "file_extension": ".py",
      "mimetype": "text/x-python",
      "name": "python",
      "nbconvert_exporter": "python",
      "pygments_lexer": "ipython3",
      "version": "3.10.7"
    },
    "papermill": {
      "default_parameters": {},
      "duration": 20854.324556,
      "end_time": "2022-11-26T06:24:26.083768",
      "environment_variables": {},
      "exception": null,
      "input_path": "__notebook__.ipynb",
      "output_path": "__notebook__.ipynb",
      "parameters": {},
      "start_time": "2022-11-26T00:36:51.759212",
      "version": "2.3.4"
    },
    "vscode": {
      "interpreter": {
        "hash": "3bbbeabe83e93ef9527affa168e6f88c5c486a44dcccfff01b32fed3bbfe7883"
      }
    }
  },
  "nbformat": 4,
  "nbformat_minor": 5
}