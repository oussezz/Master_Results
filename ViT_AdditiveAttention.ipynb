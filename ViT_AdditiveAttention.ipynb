{
  "cells": [
    {
      "cell_type": "markdown",
      "metadata": {
        "id": "view-in-github",
        "colab_type": "text"
      },
      "source": [
        "<a href=\"https://colab.research.google.com/github/oussezz/Master_Results/blob/main/ViT_AdditiveAttention.ipynb\" target=\"_parent\"><img src=\"https://colab.research.google.com/assets/colab-badge.svg\" alt=\"Open In Colab\"/></a>"
      ]
    },
    {
      "cell_type": "code",
      "source": [
        "!git clone https://github.com/sovit-123/vision_transformers.git\n",
        "%cd vision_transformers"
      ],
      "metadata": {
        "colab": {
          "base_uri": "https://localhost:8080/"
        },
        "id": "AP5W6lokTSdn",
        "outputId": "98377567-feed-41e5-a3e2-2d64a0338974"
      },
      "id": "AP5W6lokTSdn",
      "execution_count": 1,
      "outputs": [
        {
          "output_type": "stream",
          "name": "stdout",
          "text": [
            "fatal: destination path 'vision_transformers' already exists and is not an empty directory.\n",
            "/content/vision_transformers\n"
          ]
        }
      ]
    },
    {
      "cell_type": "code",
      "source": [
        "!pip install ."
      ],
      "metadata": {
        "colab": {
          "base_uri": "https://localhost:8080/"
        },
        "id": "b9WHL1TsTYE3",
        "outputId": "efe354a4-2358-48f9-b01d-7aa30f41af96"
      },
      "id": "b9WHL1TsTYE3",
      "execution_count": 2,
      "outputs": [
        {
          "output_type": "stream",
          "name": "stdout",
          "text": [
            "Looking in indexes: https://pypi.org/simple, https://us-python.pkg.dev/colab-wheels/public/simple/\n",
            "Processing /content/vision_transformers\n",
            "  Preparing metadata (setup.py) ... \u001b[?25l\u001b[?25hdone\n",
            "Requirement already satisfied: torch>=1.10 in /usr/local/lib/python3.10/dist-packages (from vision-transformers==0.1.1.0) (2.0.1+cu118)\n",
            "Requirement already satisfied: torchvision in /usr/local/lib/python3.10/dist-packages (from vision-transformers==0.1.1.0) (0.15.2+cu118)\n",
            "Requirement already satisfied: filelock in /usr/local/lib/python3.10/dist-packages (from torch>=1.10->vision-transformers==0.1.1.0) (3.12.0)\n",
            "Requirement already satisfied: typing-extensions in /usr/local/lib/python3.10/dist-packages (from torch>=1.10->vision-transformers==0.1.1.0) (4.5.0)\n",
            "Requirement already satisfied: sympy in /usr/local/lib/python3.10/dist-packages (from torch>=1.10->vision-transformers==0.1.1.0) (1.11.1)\n",
            "Requirement already satisfied: networkx in /usr/local/lib/python3.10/dist-packages (from torch>=1.10->vision-transformers==0.1.1.0) (3.1)\n",
            "Requirement already satisfied: jinja2 in /usr/local/lib/python3.10/dist-packages (from torch>=1.10->vision-transformers==0.1.1.0) (3.1.2)\n",
            "Requirement already satisfied: triton==2.0.0 in /usr/local/lib/python3.10/dist-packages (from torch>=1.10->vision-transformers==0.1.1.0) (2.0.0)\n",
            "Requirement already satisfied: cmake in /usr/local/lib/python3.10/dist-packages (from triton==2.0.0->torch>=1.10->vision-transformers==0.1.1.0) (3.25.2)\n",
            "Requirement already satisfied: lit in /usr/local/lib/python3.10/dist-packages (from triton==2.0.0->torch>=1.10->vision-transformers==0.1.1.0) (16.0.5)\n",
            "Requirement already satisfied: numpy in /usr/local/lib/python3.10/dist-packages (from torchvision->vision-transformers==0.1.1.0) (1.22.4)\n",
            "Requirement already satisfied: requests in /usr/local/lib/python3.10/dist-packages (from torchvision->vision-transformers==0.1.1.0) (2.27.1)\n",
            "Requirement already satisfied: pillow!=8.3.*,>=5.3.0 in /usr/local/lib/python3.10/dist-packages (from torchvision->vision-transformers==0.1.1.0) (8.4.0)\n",
            "Requirement already satisfied: MarkupSafe>=2.0 in /usr/local/lib/python3.10/dist-packages (from jinja2->torch>=1.10->vision-transformers==0.1.1.0) (2.1.2)\n",
            "Requirement already satisfied: urllib3<1.27,>=1.21.1 in /usr/local/lib/python3.10/dist-packages (from requests->torchvision->vision-transformers==0.1.1.0) (1.26.15)\n",
            "Requirement already satisfied: certifi>=2017.4.17 in /usr/local/lib/python3.10/dist-packages (from requests->torchvision->vision-transformers==0.1.1.0) (2022.12.7)\n",
            "Requirement already satisfied: charset-normalizer~=2.0.0 in /usr/local/lib/python3.10/dist-packages (from requests->torchvision->vision-transformers==0.1.1.0) (2.0.12)\n",
            "Requirement already satisfied: idna<4,>=2.5 in /usr/local/lib/python3.10/dist-packages (from requests->torchvision->vision-transformers==0.1.1.0) (3.4)\n",
            "Requirement already satisfied: mpmath>=0.19 in /usr/local/lib/python3.10/dist-packages (from sympy->torch>=1.10->vision-transformers==0.1.1.0) (1.3.0)\n",
            "Building wheels for collected packages: vision-transformers\n",
            "  Building wheel for vision-transformers (setup.py) ... \u001b[?25l\u001b[?25hdone\n",
            "  Created wheel for vision-transformers: filename=vision_transformers-0.1.1.0-py3-none-any.whl size=55839 sha256=2d32e679cdf490bec9ed25482d31576ddecec14eecaf5f0029013ebd763418ee\n",
            "  Stored in directory: /tmp/pip-ephem-wheel-cache-8cbhpva2/wheels/db/87/51/ad39d99a4ddd263b0b6eddc048a426338fde648f1ae338b7f0\n",
            "Successfully built vision-transformers\n",
            "Installing collected packages: vision-transformers\n",
            "  Attempting uninstall: vision-transformers\n",
            "    Found existing installation: vision-transformers 0.1.1.0\n",
            "    Uninstalling vision-transformers-0.1.1.0:\n",
            "      Successfully uninstalled vision-transformers-0.1.1.0\n",
            "Successfully installed vision-transformers-0.1.1.0\n"
          ]
        }
      ]
    },
    {
      "cell_type": "code",
      "source": [
        "%cd .."
      ],
      "metadata": {
        "colab": {
          "base_uri": "https://localhost:8080/"
        },
        "id": "flg-HgskUY6o",
        "outputId": "288083db-927f-4b78-9254-4b4d2d1aeaf0"
      },
      "id": "flg-HgskUY6o",
      "execution_count": 3,
      "outputs": [
        {
          "output_type": "stream",
          "name": "stdout",
          "text": [
            "/content\n"
          ]
        }
      ]
    },
    {
      "cell_type": "code",
      "execution_count": 4,
      "id": "cf353475",
      "metadata": {
        "id": "cf353475",
        "papermill": {
          "duration": 0.345585,
          "end_time": "2022-11-26T00:37:16.782119",
          "exception": false,
          "start_time": "2022-11-26T00:37:16.436534",
          "status": "completed"
        },
        "tags": []
      },
      "outputs": [],
      "source": [
        "import torch\n",
        "import torchvision\n",
        "import torchvision.transforms as transforms\n",
        "import matplotlib.pyplot as plt\n",
        "import matplotlib\n",
        "import torch.nn as nn\n",
        "import torch.optim as optim\n",
        "import os\n",
        "import cv2\n",
        "import numpy as np\n",
        "import shutil\n",
        "\n",
        "from tqdm import tqdm\n",
        "from vision_transformers.models import vit\n",
        "\n",
        "matplotlib.style.use('ggplot')"
      ]
    },
    {
      "cell_type": "code",
      "source": [
        "from google.colab import drive\n",
        "drive.mount('/content/drive')"
      ],
      "metadata": {
        "colab": {
          "base_uri": "https://localhost:8080/"
        },
        "id": "z7Dc4gN3TkNP",
        "outputId": "3ab62c35-785c-42c7-b9aa-45c27753dd58"
      },
      "id": "z7Dc4gN3TkNP",
      "execution_count": 5,
      "outputs": [
        {
          "output_type": "stream",
          "name": "stdout",
          "text": [
            "Drive already mounted at /content/drive; to attempt to forcibly remount, call drive.mount(\"/content/drive\", force_remount=True).\n"
          ]
        }
      ]
    },
    {
      "cell_type": "code",
      "execution_count": 6,
      "id": "5816efd8",
      "metadata": {
        "id": "5816efd8",
        "papermill": {
          "duration": 0.01546,
          "end_time": "2022-11-26T00:37:16.802531",
          "exception": false,
          "start_time": "2022-11-26T00:37:16.787071",
          "status": "completed"
        },
        "tags": []
      },
      "outputs": [],
      "source": [
        "# Directories.\n",
        "PROJECT = 'FlameViTPretreined_lr_0.0005_3_6_2023'\n",
        "RES_DIR = os.path.join('/content/drive/MyDrive/results', PROJECT)\n",
        "if os.path.exists(RES_DIR):\n",
        "    shutil.rmtree(RES_DIR)\n",
        "os.makedirs(RES_DIR, exist_ok=True)\n",
        "PLOT_DIR = os.path.join('/content/drive/MyDrive/plots', PROJECT)\n",
        "os.makedirs(PLOT_DIR, exist_ok=True)\n",
        "CKPT_DIR = os.path.join('/content/drive/MyDrive/checkpoints', PROJECT)\n",
        "os.makedirs(CKPT_DIR, exist_ok=True)"
      ]
    },
    {
      "cell_type": "code",
      "execution_count": 7,
      "id": "6c527737",
      "metadata": {
        "colab": {
          "base_uri": "https://localhost:8080/"
        },
        "id": "6c527737",
        "outputId": "9a6e4c47-b645-4867-ebe6-76b15f818c6d",
        "papermill": {
          "duration": 0.072189,
          "end_time": "2022-11-26T00:37:16.879233",
          "exception": false,
          "start_time": "2022-11-26T00:37:16.807044",
          "status": "completed"
        },
        "tags": []
      },
      "outputs": [
        {
          "output_type": "stream",
          "name": "stdout",
          "text": [
            "[INFO]: Computation device: cuda\n"
          ]
        }
      ],
      "source": [
        "device = torch.device('cuda' if torch.cuda.is_available() else 'cpu')\n",
        "print(f\"[INFO]: Computation device: {device}\")\n",
        "epochs = 5\n",
        "image_size=224"
      ]
    },
    {
      "cell_type": "code",
      "execution_count": 8,
      "id": "43893190",
      "metadata": {
        "id": "43893190",
        "papermill": {
          "duration": 0.014035,
          "end_time": "2022-11-26T00:37:16.897980",
          "exception": false,
          "start_time": "2022-11-26T00:37:16.883945",
          "status": "completed"
        },
        "tags": []
      },
      "outputs": [],
      "source": [
        "RESIZE_TO = (image_size, image_size)\n",
        "\n",
        "train_transform = transforms.Compose(\n",
        "    [transforms.Resize(RESIZE_TO),\n",
        "     transforms.RandAugment(num_ops=0),\n",
        "     transforms.ToTensor(),\n",
        "     transforms.Normalize(\n",
        "        mean=[0.485, 0.456, 0.406],\n",
        "        std=[0.229, 0.224, 0.225])\n",
        "    ])\n",
        "valid_transform = transforms.Compose(\n",
        "    [transforms.Resize(RESIZE_TO),\n",
        "     transforms.ToTensor(),\n",
        "     transforms.Normalize(\n",
        "        mean=[0.485, 0.456, 0.406],\n",
        "        std=[0.229, 0.224, 0.225])\n",
        "    ])"
      ]
    },
    {
      "cell_type": "code",
      "source": [
        "import zipfile\n",
        "\n",
        "def unzip_file(zip_path, extract_path):\n",
        "    with zipfile.ZipFile(zip_path, 'r') as zip_ref:\n",
        "        zip_ref.extractall(extract_path)\n",
        "\n",
        "# Example usage\n",
        "zip_path = '/content/drive/MyDrive/Test.zip'  # Path to the zip file\n",
        "  # Path where you want to extract the files\n",
        "\n",
        "unzip_file(zip_path,\".\")\n",
        "\n",
        "import zipfile\n",
        "\n",
        "def unzip_file(zip_path, extract_path):\n",
        "    with zipfile.ZipFile(zip_path, 'r') as zip_ref:\n",
        "        zip_ref.extractall(extract_path)\n",
        "\n",
        "# Example usage\n",
        "zip_path = '/content/drive/MyDrive/Training.zip'  # Path to the zip file\n",
        "  # Path where you want to extract the files\n",
        "\n",
        "unzip_file(zip_path,\".\")\n"
      ],
      "metadata": {
        "id": "Wtjr-aVQUAuh"
      },
      "id": "Wtjr-aVQUAuh",
      "execution_count": 9,
      "outputs": []
    },
    {
      "cell_type": "code",
      "execution_count": 10,
      "id": "tb8rKm7DUxmj",
      "metadata": {
        "id": "tb8rKm7DUxmj"
      },
      "outputs": [],
      "source": [
        "import torchvision.transforms as transforms\n",
        "from torch.utils.data import Dataset, DataLoader\n",
        "from torchvision.datasets import ImageFolder\n",
        "\n",
        "# Define the transforms for training and validation\n",
        "train_transform = transforms.Compose([\n",
        "    transforms.Resize((224, 224)),  # Resize the images to the desired size\n",
        "    transforms.ToTensor(),  # Convert images to tensors\n",
        "    transforms.Normalize((0.5, 0.5, 0.5), (0.5, 0.5, 0.5)),  # Normalize the image pixel values\n",
        "])\n",
        "\n",
        "valid_transform = transforms.Compose([\n",
        "    transforms.Resize((224, 224)),\n",
        "    transforms.ToTensor(),\n",
        "    transforms.Normalize((0.5, 0.5, 0.5), (0.5, 0.5, 0.5)),\n",
        "])\n",
        "\n",
        "# Define a custom dataset class\n",
        "class CustomDataset(Dataset):\n",
        "    def __init__(self, root, transform=None):\n",
        "        self.dataset = ImageFolder(root, transform=transform)\n",
        "        self.classes=['Fire','No_Fire']\n",
        "\n",
        "    def __len__(self):\n",
        "        return len(self.dataset)\n",
        "\n",
        "    def __getitem__(self, index):\n",
        "        image, label = self.dataset[index]\n",
        "        return image, label\n",
        "\n",
        "# Set the paths to your train and test folders\n",
        "train_folder = 'Training'\n",
        "test_folder = 'Test'\n",
        "\n",
        "# Instantiate the custom datasets\n",
        "train_dataset = CustomDataset(train_folder, transform=train_transform)\n",
        "valid_dataset = CustomDataset(test_folder, transform=valid_transform)\n",
        "\n",
        "# Set your desired batch size\n",
        "batch_size = 32\n",
        "\n",
        "# Create the data loaders\n",
        "train_dataloader = DataLoader(train_dataset, batch_size=batch_size, shuffle=True)\n",
        "valid_dataloader = DataLoader(valid_dataset, batch_size=batch_size, shuffle=False)\n"
      ]
    },
    {
      "cell_type": "code",
      "execution_count": 11,
      "id": "88c987b8",
      "metadata": {
        "colab": {
          "base_uri": "https://localhost:8080/"
        },
        "id": "88c987b8",
        "outputId": "c9639c1d-0a4e-4050-e715-ad2ef7e0206c",
        "papermill": {
          "duration": 0.015358,
          "end_time": "2022-11-26T00:37:25.005387",
          "exception": false,
          "start_time": "2022-11-26T00:37:24.990029",
          "status": "completed"
        },
        "tags": []
      },
      "outputs": [
        {
          "output_type": "stream",
          "name": "stdout",
          "text": [
            "['Fire', 'No_Fire']\n"
          ]
        }
      ],
      "source": [
        "print(train_dataset.classes)"
      ]
    },
    {
      "cell_type": "code",
      "execution_count": 34,
      "id": "8cf59e36",
      "metadata": {
        "colab": {
          "base_uri": "https://localhost:8080/"
        },
        "id": "8cf59e36",
        "outputId": "126d8450-ebe8-4636-cfa6-6b0f4ac910ca",
        "papermill": {
          "duration": 2.803145,
          "end_time": "2022-11-26T00:37:27.813686",
          "exception": false,
          "start_time": "2022-11-26T00:37:25.010541",
          "status": "completed"
        },
        "scrolled": true,
        "tags": []
      },
      "outputs": [
        {
          "output_type": "stream",
          "name": "stdout",
          "text": [
            "Loading vit_b_p16_224 pretrained weights\n",
            "Loading Torchvision pretrained weights\n"
          ]
        }
      ],
      "source": [
        "# instantiate the model\n",
        "model = vit.vit_b_p16_224(\n",
        "    image_size=224, pretrained=True\n",
        ").to(device)\n",
        "# print(model)"
      ]
    },
    {
      "cell_type": "code",
      "execution_count": 35,
      "id": "ebae767a",
      "metadata": {
        "colab": {
          "base_uri": "https://localhost:8080/"
        },
        "id": "ebae767a",
        "outputId": "bcec5484-5d4e-439c-ba60-c101c4ca7826",
        "scrolled": true,
        "tags": []
      },
      "outputs": [
        {
          "output_type": "stream",
          "name": "stdout",
          "text": [
            "ViT(\n",
            "  (patches): CreatePatches(\n",
            "    (patch): Conv2d(3, 768, kernel_size=(16, 16), stride=(16, 16))\n",
            "  )\n",
            "  (dropout): Dropout(p=0.0, inplace=False)\n",
            "  (transformer): Transformer(\n",
            "    (layers): ModuleList(\n",
            "      (0-11): 12 x ModuleList(\n",
            "        (0): Normalization(\n",
            "          (norm): LayerNorm((768,), eps=1e-06, elementwise_affine=True)\n",
            "          (fn): Attention(\n",
            "            (qkv): Linear(in_features=768, out_features=2304, bias=True)\n",
            "            (out): Sequential(\n",
            "              (0): Linear(in_features=768, out_features=768, bias=True)\n",
            "              (1): Dropout(p=0.0, inplace=False)\n",
            "            )\n",
            "          )\n",
            "        )\n",
            "        (1): Normalization(\n",
            "          (norm): LayerNorm((768,), eps=1e-06, elementwise_affine=True)\n",
            "          (fn): MLP(\n",
            "            (mlp_net): Sequential(\n",
            "              (0): Linear(in_features=768, out_features=3072, bias=True)\n",
            "              (1): GELU(approximate='none')\n",
            "              (2): Dropout(p=0.0, inplace=False)\n",
            "              (3): Linear(in_features=3072, out_features=768, bias=True)\n",
            "              (4): Dropout(p=0.0, inplace=False)\n",
            "            )\n",
            "          )\n",
            "        )\n",
            "      )\n",
            "    )\n",
            "  )\n",
            "  (ln): LayerNorm((768,), eps=1e-06, elementwise_affine=True)\n",
            "  (latent): Identity()\n",
            "  (mlp_head): Linear(in_features=768, out_features=2, bias=True)\n",
            ")\n"
          ]
        }
      ],
      "source": [
        "model.mlp_head = nn.Linear(in_features=768, out_features=2, bias=True)\n",
        "_ = model.to(device)\n",
        "print(model)"
      ]
    },
    {
      "cell_type": "code",
      "source": [
        "print(\"=> loading checkpoint\")\n",
        "# loading the default weights of the ViT\n",
        "checkpoint = torch.load('/content/drive/MyDrive/vitmodel_0.0005.pth')\n",
        "model.load_state_dict(checkpoint['model_state_dict'])\n",
        "print(\"=> loaded checkpoint\")"
      ],
      "metadata": {
        "colab": {
          "base_uri": "https://localhost:8080/"
        },
        "id": "IrKRyc_f6apy",
        "outputId": "3a0a20bd-6a93-45c0-aa28-777ae42fe551"
      },
      "id": "IrKRyc_f6apy",
      "execution_count": 38,
      "outputs": [
        {
          "output_type": "stream",
          "name": "stdout",
          "text": [
            "=> loading checkpoint\n",
            "=> loaded checkpoint\n"
          ]
        }
      ]
    },
    {
      "cell_type": "code",
      "source": [
        "import torch\n",
        "import torch.nn as nn\n",
        "#Define the AdditiveAttention block\n",
        "class AdditiveAttention(nn.Module):\n",
        "    def __init__(self, embed_dim):\n",
        "        super().__init__()\n",
        "        self.embed_dim = embed_dim\n",
        "        self.query = nn.Linear(embed_dim, embed_dim, bias=False)\n",
        "        self.key = nn.Linear(embed_dim, embed_dim, bias=False)\n",
        "        self.energy = nn.Linear(embed_dim, 1, bias=False)\n",
        "        self.softmax = nn.Softmax(dim=-1)\n",
        "\n",
        "    def forward(self, x):\n",
        "        q = self.query(x)\n",
        "        k = self.key(x)\n",
        "        energy = self.energy(torch.tanh(q + k))\n",
        "        \n",
        "        attn_weights = self.softmax(energy)\n",
        "\n",
        "        output = torch.matmul(attn_weights.transpose(-2, -1), x)\n",
        "        return output"
      ],
      "metadata": {
        "id": "537Xao4t5ekZ"
      },
      "id": "537Xao4t5ekZ",
      "execution_count": 24,
      "outputs": []
    },
    {
      "cell_type": "code",
      "source": [
        "attention_modules = []\n",
        "\n",
        "for layer in model.transformer.layers:\n",
        "    attention_module = layer[0].fn\n",
        "    attention_modules.append(attention_module)\n",
        "attention_modules[0]"
      ],
      "metadata": {
        "colab": {
          "base_uri": "https://localhost:8080/"
        },
        "id": "i4es3Xbl5iaW",
        "outputId": "fba18a30-7cb8-4c42-fec7-88efeb6b90fe"
      },
      "id": "i4es3Xbl5iaW",
      "execution_count": 26,
      "outputs": [
        {
          "output_type": "execute_result",
          "data": {
            "text/plain": [
              "Attention(\n",
              "  (qkv): Linear(in_features=768, out_features=2304, bias=True)\n",
              "  (out): Sequential(\n",
              "    (0): Linear(in_features=768, out_features=768, bias=True)\n",
              "    (1): Dropout(p=0.0, inplace=False)\n",
              "  )\n",
              ")"
            ]
          },
          "metadata": {},
          "execution_count": 26
        }
      ]
    },
    {
      "cell_type": "code",
      "source": [
        "attention_modules_old = []\n",
        "for layer in model.transformer.layers:\n",
        "    attention_module = layer[0].fn\n",
        "    attention_modules_old.append(attention_module)\n",
        "attention_modules_old[0]"
      ],
      "metadata": {
        "colab": {
          "base_uri": "https://localhost:8080/"
        },
        "id": "R2TSBFi-51DE",
        "outputId": "258cffcf-4b5d-411c-a13a-63bcf726fb87"
      },
      "id": "R2TSBFi-51DE",
      "execution_count": 29,
      "outputs": [
        {
          "output_type": "execute_result",
          "data": {
            "text/plain": [
              "Attention(\n",
              "  (qkv): Linear(in_features=768, out_features=2304, bias=True)\n",
              "  (out): Sequential(\n",
              "    (0): Linear(in_features=768, out_features=768, bias=True)\n",
              "    (1): Dropout(p=0.0, inplace=False)\n",
              "  )\n",
              ")"
            ]
          },
          "metadata": {},
          "execution_count": 29
        }
      ]
    },
    {
      "cell_type": "code",
      "source": [
        "i=0\n",
        "for layer in model.transformer.layers:\n",
        "  pretrained_state_dict = attention_modules_old[i].state_dict()\n",
        "  custom_state_dict = AdditiveAttention(embed_dim=768).state_dict()\n",
        "\n",
        "  # Transfer the matching weights\n",
        "  for key in pretrained_state_dict:\n",
        "      if key in custom_state_dict:\n",
        "          custom_state_dict[key] = pretrained_state_dict[key]\n",
        "\n",
        "  # Load the updated state_dict into your custom MLPAttention\n",
        "  layer[0].fn = AdditiveAttention(embed_dim=768)\n",
        "  layer[0].fn.load_state_dict(custom_state_dict)\n",
        "  i+=1\n"
      ],
      "metadata": {
        "id": "NmINQ9P85nEo"
      },
      "id": "NmINQ9P85nEo",
      "execution_count": 30,
      "outputs": []
    },
    {
      "cell_type": "code",
      "source": [
        "attention_modules = []\n",
        "\n",
        "for layer in model.transformer.layers:\n",
        "    attention_module = layer[0].fn\n",
        "    attention_modules.append(attention_module)\n",
        "attention_modules[0]"
      ],
      "metadata": {
        "colab": {
          "base_uri": "https://localhost:8080/"
        },
        "id": "dvDilkUJ6E23",
        "outputId": "4e24eddf-b5cb-4868-9cc1-b5d140e230ea"
      },
      "id": "dvDilkUJ6E23",
      "execution_count": 31,
      "outputs": [
        {
          "output_type": "execute_result",
          "data": {
            "text/plain": [
              "AdditiveAttention(\n",
              "  (query): Linear(in_features=768, out_features=768, bias=False)\n",
              "  (key): Linear(in_features=768, out_features=768, bias=False)\n",
              "  (energy): Linear(in_features=768, out_features=1, bias=False)\n",
              "  (softmax): Softmax(dim=-1)\n",
              ")"
            ]
          },
          "metadata": {},
          "execution_count": 31
        }
      ]
    },
    {
      "cell_type": "code",
      "source": [
        "model\n"
      ],
      "metadata": {
        "colab": {
          "base_uri": "https://localhost:8080/"
        },
        "id": "Qo-kAM-_6Gcq",
        "outputId": "4d0fbd15-0a6b-41c7-9bbb-4f237cdd0af2"
      },
      "id": "Qo-kAM-_6Gcq",
      "execution_count": 32,
      "outputs": [
        {
          "output_type": "execute_result",
          "data": {
            "text/plain": [
              "ViT(\n",
              "  (patches): CreatePatches(\n",
              "    (patch): Conv2d(3, 768, kernel_size=(16, 16), stride=(16, 16))\n",
              "  )\n",
              "  (dropout): Dropout(p=0.0, inplace=False)\n",
              "  (transformer): Transformer(\n",
              "    (layers): ModuleList(\n",
              "      (0-11): 12 x ModuleList(\n",
              "        (0): Normalization(\n",
              "          (norm): LayerNorm((768,), eps=1e-06, elementwise_affine=True)\n",
              "          (fn): AdditiveAttention(\n",
              "            (query): Linear(in_features=768, out_features=768, bias=False)\n",
              "            (key): Linear(in_features=768, out_features=768, bias=False)\n",
              "            (energy): Linear(in_features=768, out_features=1, bias=False)\n",
              "            (softmax): Softmax(dim=-1)\n",
              "          )\n",
              "        )\n",
              "        (1): Normalization(\n",
              "          (norm): LayerNorm((768,), eps=1e-06, elementwise_affine=True)\n",
              "          (fn): MLP(\n",
              "            (mlp_net): Sequential(\n",
              "              (0): Linear(in_features=768, out_features=3072, bias=True)\n",
              "              (1): GELU(approximate='none')\n",
              "              (2): Dropout(p=0.0, inplace=False)\n",
              "              (3): Linear(in_features=3072, out_features=768, bias=True)\n",
              "              (4): Dropout(p=0.0, inplace=False)\n",
              "            )\n",
              "          )\n",
              "        )\n",
              "      )\n",
              "    )\n",
              "  )\n",
              "  (ln): LayerNorm((768,), eps=1e-06, elementwise_affine=True)\n",
              "  (latent): Identity()\n",
              "  (mlp_head): Linear(in_features=768, out_features=2, bias=True)\n",
              ")"
            ]
          },
          "metadata": {},
          "execution_count": 32
        }
      ]
    },
    {
      "cell_type": "code",
      "source": [
        "# total parameters and trainable parameters\n",
        "total_params = sum(p.numel() for p in model.parameters())\n",
        "print(f\"[INFO]: {total_params:,} total parameters.\")\n",
        "total_trainable_params = sum(\n",
        "    p.numel() for p in model.parameters() if p.requires_grad)\n",
        "print(f\"[INFO]: {total_trainable_params:,} trainable parameters.\")\n",
        "\n",
        "# the loss function\n",
        "criterion = nn.CrossEntropyLoss()\n",
        "# the optimizer\n",
        "optimizer = optim.SGD(model.parameters(), lr=0.0005, momentum=0.9, \n",
        "                      weight_decay=0.0005)"
      ],
      "metadata": {
        "colab": {
          "base_uri": "https://localhost:8080/"
        },
        "id": "l_WaI0x-6NRT",
        "outputId": "04dba0e0-71df-4dfa-f629-9908f1b01d3a"
      },
      "id": "l_WaI0x-6NRT",
      "execution_count": 33,
      "outputs": [
        {
          "output_type": "stream",
          "name": "stdout",
          "text": [
            "[INFO]: 71,616,770 total parameters.\n",
            "[INFO]: 71,616,770 trainable parameters.\n"
          ]
        }
      ]
    },
    {
      "cell_type": "code",
      "execution_count": 15,
      "id": "f8d59f82",
      "metadata": {
        "id": "f8d59f82",
        "papermill": {
          "duration": 0.015459,
          "end_time": "2022-11-26T00:37:27.835413",
          "exception": false,
          "start_time": "2022-11-26T00:37:27.819954",
          "status": "completed"
        },
        "tags": []
      },
      "outputs": [],
      "source": [
        "# training\n",
        "def train(model, trainloader, optimizer, criterion):\n",
        "    model.train()\n",
        "    print('Training')\n",
        "    train_running_loss = 0.0\n",
        "    train_running_correct = 0\n",
        "    counter = 0\n",
        "    for i, data in tqdm(enumerate(trainloader), total=len(trainloader)):\n",
        "        counter += 1\n",
        "\n",
        "        image, labels = data\n",
        "        image = image.to(device)\n",
        "        labels = labels.to(device)\n",
        "\n",
        "        optimizer.zero_grad()\n",
        "        # forward pass\n",
        "        outputs = model(image)\n",
        "        # calculate the loss\n",
        "        loss = criterion(outputs, labels)\n",
        "        train_running_loss += loss.item()\n",
        "        # calculate the accuracy\n",
        "        _, preds = torch.max(outputs.data, 1)\n",
        "        train_running_correct += (preds == labels).sum().item()\n",
        "        loss.backward()\n",
        "        optimizer.step()\n",
        "    \n",
        "    epoch_loss = train_running_loss / counter\n",
        "    epoch_acc = 100. * (train_running_correct / len(trainloader.dataset))\n",
        "    return epoch_loss, epoch_acc\n"
      ]
    },
    {
      "cell_type": "code",
      "execution_count": 16,
      "id": "c6531993",
      "metadata": {
        "id": "c6531993",
        "papermill": {
          "duration": 0.02293,
          "end_time": "2022-11-26T00:37:27.863305",
          "exception": false,
          "start_time": "2022-11-26T00:37:27.840375",
          "status": "completed"
        },
        "tags": []
      },
      "outputs": [],
      "source": [
        "# validation\n",
        "def validate(model, testloader, criterion, classes):\n",
        "    model.eval()\n",
        "    \n",
        "    # we need two lists to keep track of class-wise accuracy\n",
        "    class_correct = list(0. for i in range(10))\n",
        "    class_total = list(0. for i in range(10))\n",
        "\n",
        "    print('Validation')\n",
        "    valid_running_loss = 0.0\n",
        "    valid_running_correct = 0\n",
        "    counter = 0\n",
        "    with torch.no_grad():\n",
        "        for i, data in tqdm(enumerate(testloader), total=len(testloader)):\n",
        "            counter += 1\n",
        "            \n",
        "            image, labels = data\n",
        "            image = image.to(device)\n",
        "            labels = labels.to(device)\n",
        "\n",
        "            # forward pass\n",
        "            outputs = model(image)\n",
        "            # calculate the loss\n",
        "            loss = criterion(outputs, labels)\n",
        "            valid_running_loss += loss.item()\n",
        "            # calculate the accuracy\n",
        "            _, preds = torch.max(outputs.data, 1)\n",
        "            valid_running_correct += (preds == labels).sum().item()\n",
        "                        \n",
        "            if counter == 1:\n",
        "                gt_color = (0, 255, 0)\n",
        "                for i in range(image.shape[0]):\n",
        "                    gt_class = classes[labels[i].cpu().numpy()]\n",
        "                    pred_class = classes[preds[i].cpu().numpy()]\n",
        "                    if gt_class == pred_class:\n",
        "                        pred_color = gt_color\n",
        "                    else:\n",
        "                        pred_color = (0, 0, 255)\n",
        "                    img_to_write = image[i].cpu()\n",
        "                    img_to_write = img_to_write / 2 + 0.5\n",
        "                    img_to_write = img_to_write.numpy()\n",
        "                    img_to_write = np.transpose(img_to_write, (1, 2, 0))\n",
        "                    img_to_write = cv2.resize(img_to_write, (224, 224))\n",
        "                    img_to_write = cv2.cvtColor(img_to_write, cv2.COLOR_RGB2BGR)\n",
        "                    cv2.putText(\n",
        "                        img_to_write,\n",
        "                        text=f\"GT: {gt_class}\",\n",
        "                        org=(15, 25),\n",
        "                        fontFace=cv2.FONT_HERSHEY_SIMPLEX,\n",
        "                        fontScale=0.75,\n",
        "                        color=gt_color,\n",
        "                        thickness=2,\n",
        "                        lineType=cv2.LINE_AA\n",
        "                    )\n",
        "                    cv2.putText(\n",
        "                        img_to_write,\n",
        "                        text=f\"PRED: {pred_class}\",\n",
        "                        org=(15, 60),\n",
        "                        fontFace=cv2.FONT_HERSHEY_SIMPLEX,\n",
        "                        fontScale=0.75,\n",
        "                        color=pred_color,\n",
        "                        thickness=2,\n",
        "                        lineType=cv2.LINE_AA\n",
        "                    )\n",
        "                    cv2.imwrite(\n",
        "                        os.path.join(RES_DIR, 'image_batch'+str(counter)+'image'+str(i)+'.jpg'), \n",
        "                        img_to_write*255.\n",
        "                    )\n",
        "\n",
        "            # calculate the accuracy for each class\n",
        "            correct  = (preds == labels).squeeze()\n",
        "            for i in range(len(preds)):\n",
        "                label = labels[i]\n",
        "                class_correct[label] += correct[i].item()\n",
        "                class_total[label] += 1\n",
        "        \n",
        "    epoch_loss = valid_running_loss / counter\n",
        "    epoch_acc = 100. * (valid_running_correct / len(testloader.dataset))\n",
        "\n",
        "    # print the accuracy for each class after evey epoch\n",
        "    # the values should increase as the training goes on\n",
        "    print('\\n')\n",
        "    for i in range(2):\n",
        "        print(f\"Accuracy of {classes[i]}: {100*class_correct[i]/class_total[i]}\")\n",
        "\n",
        "    return epoch_loss, epoch_acc\n"
      ]
    },
    {
      "cell_type": "code",
      "execution_count": 18,
      "id": "93647d88",
      "metadata": {
        "colab": {
          "base_uri": "https://localhost:8080/"
        },
        "id": "93647d88",
        "outputId": "fd4c6be2-ae11-46b6-fc0a-39dcdf9a3863",
        "papermill": {
          "duration": 20812.644397,
          "end_time": "2022-11-26T06:24:20.512628",
          "exception": false,
          "start_time": "2022-11-26T00:37:27.868231",
          "status": "completed"
        },
        "tags": []
      },
      "outputs": [
        {
          "output_type": "stream",
          "name": "stdout",
          "text": [
            "[INFO]: Epoch 1 of 5\n",
            "Training\n"
          ]
        },
        {
          "output_type": "stream",
          "name": "stderr",
          "text": [
            "100%|██████████| 1231/1231 [20:22<00:00,  1.01it/s]\n"
          ]
        },
        {
          "output_type": "stream",
          "name": "stdout",
          "text": [
            "Validation\n"
          ]
        },
        {
          "output_type": "stream",
          "name": "stderr",
          "text": [
            "100%|██████████| 270/270 [02:04<00:00,  2.16it/s]\n"
          ]
        },
        {
          "output_type": "stream",
          "name": "stdout",
          "text": [
            "\n",
            "\n",
            "Accuracy of Fire: 87.98909869573681\n",
            "Accuracy of No_Fire: 63.189655172413794\n",
            "\n",
            "\n",
            "Training loss: 0.019, training acc: 99.363\n",
            "Validation loss: 0.458, validation acc: 77.974\n",
            "--------------------------------------------------\n",
            "[INFO]: Epoch 2 of 5\n",
            "Training\n"
          ]
        },
        {
          "output_type": "stream",
          "name": "stderr",
          "text": [
            "100%|██████████| 1231/1231 [20:28<00:00,  1.00it/s]\n"
          ]
        },
        {
          "output_type": "stream",
          "name": "stdout",
          "text": [
            "Validation\n"
          ]
        },
        {
          "output_type": "stream",
          "name": "stderr",
          "text": [
            "100%|██████████| 270/270 [02:04<00:00,  2.17it/s]\n"
          ]
        },
        {
          "output_type": "stream",
          "name": "stdout",
          "text": [
            "\n",
            "\n",
            "Accuracy of Fire: 89.0013626630329\n",
            "Accuracy of No_Fire: 60.747126436781606\n",
            "\n",
            "\n",
            "Training loss: 0.003, training acc: 99.914\n",
            "Validation loss: 0.521, validation acc: 77.591\n",
            "--------------------------------------------------\n",
            "[INFO]: Epoch 3 of 5\n",
            "Training\n"
          ]
        },
        {
          "output_type": "stream",
          "name": "stderr",
          "text": [
            "100%|██████████| 1231/1231 [20:27<00:00,  1.00it/s]\n"
          ]
        },
        {
          "output_type": "stream",
          "name": "stdout",
          "text": [
            "Validation\n"
          ]
        },
        {
          "output_type": "stream",
          "name": "stderr",
          "text": [
            "100%|██████████| 270/270 [02:06<00:00,  2.14it/s]\n"
          ]
        },
        {
          "output_type": "stream",
          "name": "stdout",
          "text": [
            "\n",
            "\n",
            "Accuracy of Fire: 91.37628966322757\n",
            "Accuracy of No_Fire: 59.367816091954026\n",
            "\n",
            "\n",
            "Training loss: 0.001, training acc: 99.975\n",
            "Validation loss: 0.591, validation acc: 78.450\n",
            "--------------------------------------------------\n",
            "[INFO]: Epoch 4 of 5\n",
            "Training\n"
          ]
        },
        {
          "output_type": "stream",
          "name": "stderr",
          "text": [
            "100%|██████████| 1231/1231 [20:28<00:00,  1.00it/s]\n"
          ]
        },
        {
          "output_type": "stream",
          "name": "stdout",
          "text": [
            "Validation\n"
          ]
        },
        {
          "output_type": "stream",
          "name": "stderr",
          "text": [
            "100%|██████████| 270/270 [02:06<00:00,  2.13it/s]\n"
          ]
        },
        {
          "output_type": "stream",
          "name": "stdout",
          "text": [
            "\n",
            "\n",
            "Accuracy of Fire: 90.63655830251119\n",
            "Accuracy of No_Fire: 68.87931034482759\n",
            "\n",
            "\n",
            "Training loss: 0.001, training acc: 99.987\n",
            "Validation loss: 0.493, validation acc: 81.850\n",
            "--------------------------------------------------\n",
            "[INFO]: Epoch 5 of 5\n",
            "Training\n"
          ]
        },
        {
          "output_type": "stream",
          "name": "stderr",
          "text": [
            "100%|██████████| 1231/1231 [20:28<00:00,  1.00it/s]\n"
          ]
        },
        {
          "output_type": "stream",
          "name": "stdout",
          "text": [
            "Validation\n"
          ]
        },
        {
          "output_type": "stream",
          "name": "stderr",
          "text": [
            "100%|██████████| 270/270 [02:05<00:00,  2.15it/s]"
          ]
        },
        {
          "output_type": "stream",
          "name": "stdout",
          "text": [
            "\n",
            "\n",
            "Accuracy of Fire: 88.55363052365193\n",
            "Accuracy of No_Fire: 72.41379310344827\n",
            "\n",
            "\n",
            "Training loss: 0.000, training acc: 100.000\n",
            "Validation loss: 0.474, validation acc: 82.036\n",
            "--------------------------------------------------\n"
          ]
        },
        {
          "output_type": "stream",
          "name": "stderr",
          "text": [
            "\n"
          ]
        }
      ],
      "source": [
        "# start the training\n",
        "# lists to keep track of losses and accuracies\n",
        "train_loss, valid_loss = [], []\n",
        "train_acc, valid_acc = [], []\n",
        "for epoch in range(epochs):\n",
        "    print(f\"[INFO]: Epoch {epoch+1} of {epochs}\")\n",
        "\n",
        "    train_epoch_loss, train_epoch_acc = train(\n",
        "        model, \n",
        "        train_dataloader,                                       \n",
        "        optimizer, \n",
        "        criterion\n",
        "    )\n",
        "    valid_epoch_loss, valid_epoch_acc = validate(\n",
        "        model, \n",
        "        valid_dataloader,  \n",
        "        criterion,\n",
        "        train_dataset.classes\n",
        "    )\n",
        "    train_loss.append(train_epoch_loss)\n",
        "    valid_loss.append(valid_epoch_loss)\n",
        "    train_acc.append(train_epoch_acc)\n",
        "    valid_acc.append(valid_epoch_acc)\n",
        "\n",
        "    print('\\n')\n",
        "    print(f\"Training loss: {train_epoch_loss:.3f}, training acc: {train_epoch_acc:.3f}\")\n",
        "    print(f\"Validation loss: {valid_epoch_loss:.3f}, validation acc: {valid_epoch_acc:.3f}\")\n",
        "\n",
        "    print('-'*50)\n"
      ]
    },
    {
      "cell_type": "code",
      "execution_count": 19,
      "id": "b2c8b9e2",
      "metadata": {
        "id": "b2c8b9e2",
        "papermill": {
          "duration": 0.500784,
          "end_time": "2022-11-26T06:24:21.193717",
          "exception": false,
          "start_time": "2022-11-26T06:24:20.692933",
          "status": "completed"
        },
        "tags": []
      },
      "outputs": [],
      "source": [
        "# save the trained model to disk\n",
        "torch.save({\n",
        "            'epoch': epochs,\n",
        "            'model_state_dict': model.state_dict(),\n",
        "            'optimizer_state_dict': optimizer.state_dict(),\n",
        "            'loss': criterion,\n",
        "            },  os.path.join(CKPT_DIR, 'vitmodel_0.0005.pth'))"
      ]
    },
    {
      "cell_type": "code",
      "execution_count": 20,
      "id": "7e1ffde3",
      "metadata": {
        "id": "7e1ffde3",
        "papermill": {
          "duration": 1.17904,
          "end_time": "2022-11-26T06:24:22.590014",
          "exception": false,
          "start_time": "2022-11-26T06:24:21.410974",
          "status": "completed"
        },
        "tags": [],
        "colab": {
          "base_uri": "https://localhost:8080/",
          "height": 1000
        },
        "outputId": "e98c0117-7bfc-4781-ea48-aaca641d36d8"
      },
      "outputs": [
        {
          "output_type": "display_data",
          "data": {
            "text/plain": [
              "<Figure size 1000x700 with 1 Axes>"
            ],
            "image/png": "[encoded data removed]"
          },
          "metadata": {}
        },
        {
          "output_type": "display_data",
          "data": {
            "text/plain": [
              "<Figure size 1000x700 with 1 Axes>"
            ],
            "image/png": "[encoded data removed]"
          },
          "metadata": {}
        },
        {
          "output_type": "stream",
          "name": "stdout",
          "text": [
            "TRAINING COMPLETE\n"
          ]
        }
      ],
      "source": [
        "# accuracy plots\n",
        "plt.figure(figsize=(10, 7))\n",
        "plt.plot(\n",
        "    train_acc, color='green', linestyle='-', \n",
        "    label='train accuracy'\n",
        ")\n",
        "plt.plot(\n",
        "    valid_acc, color='blue', linestyle='-', \n",
        "    label='validataion accuracy'\n",
        ")\n",
        "plt.xlabel('Epochs')\n",
        "plt.ylabel('Accuracy')\n",
        "plt.legend()\n",
        "plt.savefig(os.path.join(PLOT_DIR, 'accuracy.png'))\n",
        "plt.show()\n",
        "# loss plots\n",
        "plt.figure(figsize=(10, 7))\n",
        "plt.plot(\n",
        "    train_loss, color='orange', linestyle='-', \n",
        "    label='train loss'\n",
        ")\n",
        "plt.plot(\n",
        "    valid_loss, color='red', linestyle='-', \n",
        "    label='validataion loss'\n",
        ")\n",
        "plt.xlabel('Epochs')\n",
        "plt.ylabel('Loss')\n",
        "plt.legend()\n",
        "plt.savefig(os.path.join(PLOT_DIR, 'loss.png'))\n",
        "plt.show()\n",
        " \n",
        "print('TRAINING COMPLETE')"
      ]
    },
    {
      "cell_type": "code",
      "source": [
        "from sklearn.metrics import confusion_matrix, classification_report\n",
        "import matplotlib.pyplot as plt\n",
        "import seaborn as sns\n",
        "\n",
        "def validate(model, testloader, criterion, classes):\n",
        "    model.eval()\n",
        "    \n",
        "    # we need two lists to keep track of class-wise accuracy\n",
        "    class_correct = list(0. for i in range(2))\n",
        "    class_total = list(0. for i in range(2))\n",
        "\n",
        "    print('Validation')\n",
        "    valid_running_loss = 0.0\n",
        "    valid_running_correct = 0\n",
        "    counter = 0\n",
        "    all_preds = []\n",
        "    all_labels = []\n",
        "    \n",
        "    with torch.no_grad():\n",
        "        for i, data in tqdm(enumerate(testloader), total=len(testloader)):\n",
        "            counter += 1\n",
        "            \n",
        "            image, labels = data\n",
        "            image = image.to(device)\n",
        "            labels = labels.to(device)\n",
        "\n",
        "            # forward pass\n",
        "            outputs = model(image)\n",
        "            # calculate the loss\n",
        "            loss = criterion(outputs, labels)\n",
        "            valid_running_loss += loss.item()\n",
        "            # calculate the accuracy\n",
        "            _, preds = torch.max(outputs.data, 1)\n",
        "            valid_running_correct += (preds == labels).sum().item()\n",
        "            \n",
        "            all_preds.extend(preds.tolist())\n",
        "            all_labels.extend(labels.tolist())\n",
        "\n",
        "            \n",
        "\n",
        "            # calculate the accuracy for each class\n",
        "            correct = (preds == labels).squeeze()\n",
        "            for i in range(len(preds)):\n",
        "                label = labels[i]\n",
        "                class_correct[label] += correct[i].item()\n",
        "                class_total[label] += 1\n",
        "\n",
        "    epoch_loss = valid_running_loss / counter\n",
        "    epoch_acc = 100. * (valid_running_correct / len(testloader.dataset))\n",
        "\n",
        "    # print the accuracy for each class after every epoch\n",
        "    # the values should increase as the training goes on\n",
        "    print('\\n')\n",
        "    for i in range(len(classes)):\n",
        "        print(f\"Accuracy of {classes[i]}: {100*class_correct[i]/class_total[i]}\")\n",
        "\n",
        "    # calculate the confusion matrix\n",
        "    confusion_mat = confusion_matrix(all_labels, all_preds)\n",
        "    print(\"\\nConfusion Matrix:\")\n",
        "    print(confusion_mat)\n",
        "\n",
        "    # Plot confusion matrix\n",
        "    plt.figure(figsize=(8, 6))\n",
        "    sns.heatmap(confusion_mat, annot=True, fmt='d', cmap='Blues', cbar=False,\n",
        "                xticklabels=classes, yticklabels=classes)\n",
        "    plt.title(\"Confusion Matrix\")\n",
        "    plt.xlabel(\"Predicted Label\")\n",
        "    plt.ylabel(\"True Label\")\n",
        "    plt.show()\n",
        "\n",
        "    # calculate other metrics\n",
        "    report = classification_report(all_labels, all_preds, target_names=classes)\n",
        "    print(\"\\nClassification Report:\")\n",
        "    print(report)\n",
        "\n",
        "    return epoch_loss, epoch_acc\n"
      ],
      "metadata": {
        "id": "nXYV6WOZzCeE"
      },
      "id": "nXYV6WOZzCeE",
      "execution_count": 21,
      "outputs": []
    },
    {
      "cell_type": "code",
      "source": [
        "valid_epoch_loss, valid_epoch_acc = validate(\n",
        "        model, \n",
        "        valid_dataloader,  \n",
        "        criterion,\n",
        "        train_dataset.classes\n",
        "    )"
      ],
      "metadata": {
        "colab": {
          "base_uri": "https://localhost:8080/",
          "height": 933
        },
        "id": "flSstI4nzExz",
        "outputId": "9c71246c-12c9-49e5-dfd5-d7f043668120"
      },
      "id": "flSstI4nzExz",
      "execution_count": 22,
      "outputs": [
        {
          "output_type": "stream",
          "name": "stdout",
          "text": [
            "Validation\n"
          ]
        },
        {
          "output_type": "stream",
          "name": "stderr",
          "text": [
            "100%|██████████| 270/270 [02:05<00:00,  2.16it/s]\n"
          ]
        },
        {
          "output_type": "stream",
          "name": "stdout",
          "text": [
            "\n",
            "\n",
            "Accuracy of Fire: 88.55363052365193\n",
            "Accuracy of No_Fire: 72.41379310344827\n",
            "\n",
            "Confusion Matrix:\n",
            "[[4549  588]\n",
            " [ 960 2520]]\n"
          ]
        },
        {
          "output_type": "display_data",
          "data": {
            "text/plain": [
              "<Figure size 800x600 with 1 Axes>"
            ],
            "image/png": "[encoded data removed]"
          },
          "metadata": {}
        },
        {
          "output_type": "stream",
          "name": "stdout",
          "text": [
            "\n",
            "Classification Report:\n",
            "              precision    recall  f1-score   support\n",
            "\n",
            "        Fire       0.83      0.89      0.85      5137\n",
            "     No_Fire       0.81      0.72      0.77      3480\n",
            "\n",
            "    accuracy                           0.82      8617\n",
            "   macro avg       0.82      0.80      0.81      8617\n",
            "weighted avg       0.82      0.82      0.82      8617\n",
            "\n"
          ]
        }
      ]
    }
  ],
  "metadata": {
    "accelerator": "GPU",
    "colab": {
      "gpuType": "T4",
      "provenance": [],
      "include_colab_link": true
    },
    "kernelspec": {
      "display_name": "Python 3",
      "name": "python3"
    },
    "language_info": {
      "codemirror_mode": {
        "name": "ipython",
        "version": 3
      },
      "file_extension": ".py",
      "mimetype": "text/x-python",
      "name": "python",
      "nbconvert_exporter": "python",
      "pygments_lexer": "ipython3",
      "version": "3.10.7"
    },
    "papermill": {
      "default_parameters": {},
      "duration": 20854.324556,
      "end_time": "2022-11-26T06:24:26.083768",
      "environment_variables": {},
      "exception": null,
      "input_path": "__notebook__.ipynb",
      "output_path": "__notebook__.ipynb",
      "parameters": {},
      "start_time": "2022-11-26T00:36:51.759212",
      "version": "2.3.4"
    },
    "vscode": {
      "interpreter": {
        "hash": "3bbbeabe83e93ef9527affa168e6f88c5c486a44dcccfff01b32fed3bbfe7883"
      }
    }
  },
  "nbformat": 4,
  "nbformat_minor": 5
}