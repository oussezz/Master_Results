{
  "cells": [
    {
      "cell_type": "markdown",
      "metadata": {
        "id": "view-in-github",
        "colab_type": "text"
      },
      "source": [
        "<a href=\"https://colab.research.google.com/github/oussezz/Master_Results/blob/main/ViT_Training_code.ipynb\" target=\"_parent\"><img src=\"https://colab.research.google.com/assets/colab-badge.svg\" alt=\"Open In Colab\"/></a>"
      ]
    },
    {
      "cell_type": "code",
      "execution_count": null,
      "id": "cf353475",
      "metadata": {
        "id": "cf353475",
        "papermill": {
          "duration": 0.345585,
          "end_time": "2022-11-26T00:37:16.782119",
          "exception": false,
          "start_time": "2022-11-26T00:37:16.436534",
          "status": "completed"
        },
        "tags": []
      },
      "outputs": [],
      "source": [
        "import torch\n",
        "import torchvision\n",
        "import torchvision.transforms as transforms\n",
        "import matplotlib.pyplot as plt\n",
        "import matplotlib\n",
        "import torch.nn as nn\n",
        "import torch.optim as optim\n",
        "import os\n",
        "import cv2\n",
        "import numpy as np\n",
        "import shutil\n",
        "\n",
        "from tqdm import tqdm\n",
        "from vision_transformers.models import vit\n",
        "\n",
        "matplotlib.style.use('ggplot')"
      ]
    },
    {
      "cell_type": "code",
      "execution_count": null,
      "id": "5816efd8",
      "metadata": {
        "id": "5816efd8",
        "papermill": {
          "duration": 0.01546,
          "end_time": "2022-11-26T00:37:16.802531",
          "exception": false,
          "start_time": "2022-11-26T00:37:16.787071",
          "status": "completed"
        },
        "tags": []
      },
      "outputs": [],
      "source": [
        "# Directories.\n",
        "PROJECT = 'FlameViTPretreined_lr_0.0005'\n",
        "RES_DIR = os.path.join('results', PROJECT)\n",
        "if os.path.exists(RES_DIR):\n",
        "    shutil.rmtree(RES_DIR)\n",
        "os.makedirs(RES_DIR, exist_ok=True)\n",
        "PLOT_DIR = os.path.join('plots', PROJECT)\n",
        "os.makedirs(PLOT_DIR, exist_ok=True)\n",
        "CKPT_DIR = os.path.join('checkpoints', PROJECT)\n",
        "os.makedirs(CKPT_DIR, exist_ok=True)"
      ]
    },
    {
      "cell_type": "code",
      "execution_count": null,
      "id": "6c527737",
      "metadata": {
        "colab": {
          "base_uri": "https://localhost:8080/"
        },
        "id": "6c527737",
        "outputId": "abc77afe-83cc-473d-d76e-2332b6a126fc",
        "papermill": {
          "duration": 0.072189,
          "end_time": "2022-11-26T00:37:16.879233",
          "exception": false,
          "start_time": "2022-11-26T00:37:16.807044",
          "status": "completed"
        },
        "tags": []
      },
      "outputs": [
        {
          "name": "stdout",
          "output_type": "stream",
          "text": [
            "[INFO]: Computation device: cuda\n"
          ]
        }
      ],
      "source": [
        "device = torch.device('cuda' if torch.cuda.is_available() else 'cpu')\n",
        "print(f\"[INFO]: Computation device: {device}\")\n",
        "epochs = 50\n",
        "image_size=224"
      ]
    },
    {
      "cell_type": "code",
      "execution_count": null,
      "id": "43893190",
      "metadata": {
        "id": "43893190",
        "papermill": {
          "duration": 0.014035,
          "end_time": "2022-11-26T00:37:16.897980",
          "exception": false,
          "start_time": "2022-11-26T00:37:16.883945",
          "status": "completed"
        },
        "tags": []
      },
      "outputs": [],
      "source": [
        "RESIZE_TO = (image_size, image_size)\n",
        "\n",
        "train_transform = transforms.Compose(\n",
        "    [transforms.Resize(RESIZE_TO),\n",
        "     transforms.RandAugment(num_ops=0),\n",
        "     transforms.ToTensor(),\n",
        "     transforms.Normalize(\n",
        "        mean=[0.485, 0.456, 0.406],\n",
        "        std=[0.229, 0.224, 0.225])\n",
        "    ])\n",
        "valid_transform = transforms.Compose(\n",
        "    [transforms.Resize(RESIZE_TO),\n",
        "     transforms.ToTensor(),\n",
        "     transforms.Normalize(\n",
        "        mean=[0.485, 0.456, 0.406],\n",
        "        std=[0.229, 0.224, 0.225])\n",
        "    ])"
      ]
    },
    {
      "cell_type": "code",
      "execution_count": null,
      "id": "tb8rKm7DUxmj",
      "metadata": {
        "id": "tb8rKm7DUxmj"
      },
      "outputs": [],
      "source": [
        "import torchvision.transforms as transforms\n",
        "from torch.utils.data import Dataset, DataLoader\n",
        "from torchvision.datasets import ImageFolder\n",
        "\n",
        "# Define the transforms for training and validation\n",
        "train_transform = transforms.Compose([\n",
        "    transforms.Resize((224, 224)),  # Resize the images to the desired size\n",
        "    transforms.ToTensor(),  # Convert images to tensors\n",
        "    transforms.Normalize((0.5, 0.5, 0.5), (0.5, 0.5, 0.5)),  # Normalize the image pixel values\n",
        "])\n",
        "\n",
        "valid_transform = transforms.Compose([\n",
        "    transforms.Resize((224, 224)),\n",
        "    transforms.ToTensor(),\n",
        "    transforms.Normalize((0.5, 0.5, 0.5), (0.5, 0.5, 0.5)),\n",
        "])\n",
        "\n",
        "# Define a custom dataset class\n",
        "class CustomDataset(Dataset):\n",
        "    def __init__(self, root, transform=None):\n",
        "        self.dataset = ImageFolder(root, transform=transform)\n",
        "        self.classes=['Fire','No_Fire']\n",
        "\n",
        "    def __len__(self):\n",
        "        return len(self.dataset)\n",
        "\n",
        "    def __getitem__(self, index):\n",
        "        image, label = self.dataset[index]\n",
        "        return image, label\n",
        "\n",
        "# Set the paths to your train and test folders\n",
        "train_folder = '../Training'\n",
        "test_folder = '../Test'\n",
        "\n",
        "# Instantiate the custom datasets\n",
        "train_dataset = CustomDataset(train_folder, transform=train_transform)\n",
        "valid_dataset = CustomDataset(test_folder, transform=valid_transform)\n",
        "\n",
        "# Set your desired batch size\n",
        "batch_size = 16\n",
        "\n",
        "# Create the data loaders\n",
        "train_dataloader = DataLoader(train_dataset, batch_size=batch_size, shuffle=True)\n",
        "valid_dataloader = DataLoader(valid_dataset, batch_size=batch_size, shuffle=False)\n"
      ]
    },
    {
      "cell_type": "code",
      "execution_count": null,
      "id": "88c987b8",
      "metadata": {
        "colab": {
          "base_uri": "https://localhost:8080/"
        },
        "id": "88c987b8",
        "outputId": "2deb4f16-0cdc-4e56-b4b7-2d2bca2f97e8",
        "papermill": {
          "duration": 0.015358,
          "end_time": "2022-11-26T00:37:25.005387",
          "exception": false,
          "start_time": "2022-11-26T00:37:24.990029",
          "status": "completed"
        },
        "tags": []
      },
      "outputs": [
        {
          "name": "stdout",
          "output_type": "stream",
          "text": [
            "['Fire', 'No_Fire']\n"
          ]
        }
      ],
      "source": [
        "print(train_dataset.classes)"
      ]
    },
    {
      "cell_type": "code",
      "execution_count": null,
      "id": "8cf59e36",
      "metadata": {
        "colab": {
          "base_uri": "https://localhost:8080/"
        },
        "id": "8cf59e36",
        "outputId": "59f1f09c-27d2-4b3c-9ad2-1926cabc56e6",
        "papermill": {
          "duration": 2.803145,
          "end_time": "2022-11-26T00:37:27.813686",
          "exception": false,
          "start_time": "2022-11-26T00:37:25.010541",
          "status": "completed"
        },
        "scrolled": true,
        "tags": []
      },
      "outputs": [
        {
          "name": "stdout",
          "output_type": "stream",
          "text": [
            "Loading vit_b_p16_224 pretrained weights\n",
            "Loading Torchvision pretrained weights\n"
          ]
        }
      ],
      "source": [
        "# instantiate the model\n",
        "model = vit.vit_b_p16_224(\n",
        "    image_size=224, pretrained=True\n",
        ").to(device)\n",
        "# print(model)"
      ]
    },
    {
      "cell_type": "code",
      "execution_count": null,
      "id": "ebae767a",
      "metadata": {
        "colab": {
          "base_uri": "https://localhost:8080/"
        },
        "id": "ebae767a",
        "outputId": "0eb125df-6dd4-4c40-bc0b-5c76033de174",
        "scrolled": true,
        "tags": []
      },
      "outputs": [
        {
          "name": "stdout",
          "output_type": "stream",
          "text": [
            "ViT(\n",
            "  (patches): CreatePatches(\n",
            "    (patch): Conv2d(3, 768, kernel_size=(16, 16), stride=(16, 16))\n",
            "  )\n",
            "  (dropout): Dropout(p=0.0, inplace=False)\n",
            "  (transformer): Transformer(\n",
            "    (layers): ModuleList(\n",
            "      (0-11): 12 x ModuleList(\n",
            "        (0): Normalization(\n",
            "          (norm): LayerNorm((768,), eps=1e-06, elementwise_affine=True)\n",
            "          (fn): Attention(\n",
            "            (qkv): Linear(in_features=768, out_features=2304, bias=True)\n",
            "            (out): Sequential(\n",
            "              (0): Linear(in_features=768, out_features=768, bias=True)\n",
            "              (1): Dropout(p=0.0, inplace=False)\n",
            "            )\n",
            "          )\n",
            "        )\n",
            "        (1): Normalization(\n",
            "          (norm): LayerNorm((768,), eps=1e-06, elementwise_affine=True)\n",
            "          (fn): MLP(\n",
            "            (mlp_net): Sequential(\n",
            "              (0): Linear(in_features=768, out_features=3072, bias=True)\n",
            "              (1): GELU(approximate='none')\n",
            "              (2): Dropout(p=0.0, inplace=False)\n",
            "              (3): Linear(in_features=3072, out_features=768, bias=True)\n",
            "              (4): Dropout(p=0.0, inplace=False)\n",
            "            )\n",
            "          )\n",
            "        )\n",
            "      )\n",
            "    )\n",
            "  )\n",
            "  (ln): LayerNorm((768,), eps=1e-06, elementwise_affine=True)\n",
            "  (latent): Identity()\n",
            "  (mlp_head): Linear(in_features=768, out_features=2, bias=True)\n",
            ")\n"
          ]
        }
      ],
      "source": [
        "model.mlp_head = nn.Linear(in_features=768, out_features=2, bias=True)\n",
        "_ = model.to(device)\n",
        "print(model)"
      ]
    },
    {
      "cell_type": "code",
      "execution_count": null,
      "id": "8a6c1564-d8e4-4c94-a8d1-18552dfc42fe",
      "metadata": {
        "colab": {
          "base_uri": "https://localhost:8080/"
        },
        "id": "8a6c1564-d8e4-4c94-a8d1-18552dfc42fe",
        "outputId": "4cf9af04-84ee-4d11-cd33-b1ab754a9b07"
      },
      "outputs": [
        {
          "name": "stdout",
          "output_type": "stream",
          "text": [
            "[INFO]: 85,800,194 total parameters.\n",
            "[INFO]: 85,800,194 trainable parameters.\n"
          ]
        }
      ],
      "source": [
        "# total parameters and trainable parameters\n",
        "total_params = sum(p.numel() for p in model.parameters())\n",
        "print(f\"[INFO]: {total_params:,} total parameters.\")\n",
        "total_trainable_params = sum(\n",
        "    p.numel() for p in model.parameters() if p.requires_grad)\n",
        "print(f\"[INFO]: {total_trainable_params:,} trainable parameters.\")\n",
        "\n",
        "# the loss function\n",
        "criterion = nn.CrossEntropyLoss()\n",
        "# the optimizer\n",
        "optimizer = optim.SGD(model.parameters(), lr=0.0005, momentum=0.9, \n",
        "                      weight_decay=0.0005)"
      ]
    },
    {
      "cell_type": "code",
      "execution_count": null,
      "id": "f8d59f82",
      "metadata": {
        "id": "f8d59f82",
        "papermill": {
          "duration": 0.015459,
          "end_time": "2022-11-26T00:37:27.835413",
          "exception": false,
          "start_time": "2022-11-26T00:37:27.819954",
          "status": "completed"
        },
        "tags": []
      },
      "outputs": [],
      "source": [
        "# training\n",
        "def train(model, trainloader, optimizer, criterion):\n",
        "    model.train()\n",
        "    print('Training')\n",
        "    train_running_loss = 0.0\n",
        "    train_running_correct = 0\n",
        "    counter = 0\n",
        "    for i, data in tqdm(enumerate(trainloader), total=len(trainloader)):\n",
        "        counter += 1\n",
        "\n",
        "        image, labels = data\n",
        "        image = image.to(device)\n",
        "        labels = labels.to(device)\n",
        "\n",
        "        optimizer.zero_grad()\n",
        "        # forward pass\n",
        "        outputs = model(image)\n",
        "        # calculate the loss\n",
        "        loss = criterion(outputs, labels)\n",
        "        train_running_loss += loss.item()\n",
        "        # calculate the accuracy\n",
        "        _, preds = torch.max(outputs.data, 1)\n",
        "        train_running_correct += (preds == labels).sum().item()\n",
        "        loss.backward()\n",
        "        optimizer.step()\n",
        "    \n",
        "    epoch_loss = train_running_loss / counter\n",
        "    epoch_acc = 100. * (train_running_correct / len(trainloader.dataset))\n",
        "    return epoch_loss, epoch_acc\n"
      ]
    },
    {
      "cell_type": "code",
      "execution_count": null,
      "id": "c6531993",
      "metadata": {
        "id": "c6531993",
        "papermill": {
          "duration": 0.02293,
          "end_time": "2022-11-26T00:37:27.863305",
          "exception": false,
          "start_time": "2022-11-26T00:37:27.840375",
          "status": "completed"
        },
        "tags": []
      },
      "outputs": [],
      "source": [
        "# validation\n",
        "def validate(model, testloader, criterion, classes):\n",
        "    model.eval()\n",
        "    \n",
        "    # we need two lists to keep track of class-wise accuracy\n",
        "    class_correct = list(0. for i in range(10))\n",
        "    class_total = list(0. for i in range(10))\n",
        "\n",
        "    print('Validation')\n",
        "    valid_running_loss = 0.0\n",
        "    valid_running_correct = 0\n",
        "    counter = 0\n",
        "    with torch.no_grad():\n",
        "        for i, data in tqdm(enumerate(testloader), total=len(testloader)):\n",
        "            counter += 1\n",
        "            \n",
        "            image, labels = data\n",
        "            image = image.to(device)\n",
        "            labels = labels.to(device)\n",
        "\n",
        "            # forward pass\n",
        "            outputs = model(image)\n",
        "            # calculate the loss\n",
        "            loss = criterion(outputs, labels)\n",
        "            valid_running_loss += loss.item()\n",
        "            # calculate the accuracy\n",
        "            _, preds = torch.max(outputs.data, 1)\n",
        "            valid_running_correct += (preds == labels).sum().item()\n",
        "                        \n",
        "            if counter == 1:\n",
        "                gt_color = (0, 255, 0)\n",
        "                for i in range(image.shape[0]):\n",
        "                    gt_class = classes[labels[i].cpu().numpy()]\n",
        "                    pred_class = classes[preds[i].cpu().numpy()]\n",
        "                    if gt_class == pred_class:\n",
        "                        pred_color = gt_color\n",
        "                    else:\n",
        "                        pred_color = (0, 0, 255)\n",
        "                    img_to_write = image[i].cpu()\n",
        "                    img_to_write = img_to_write / 2 + 0.5\n",
        "                    img_to_write = img_to_write.numpy()\n",
        "                    img_to_write = np.transpose(img_to_write, (1, 2, 0))\n",
        "                    img_to_write = cv2.resize(img_to_write, (224, 224))\n",
        "                    img_to_write = cv2.cvtColor(img_to_write, cv2.COLOR_RGB2BGR)\n",
        "                    cv2.putText(\n",
        "                        img_to_write,\n",
        "                        text=f\"GT: {gt_class}\",\n",
        "                        org=(15, 25),\n",
        "                        fontFace=cv2.FONT_HERSHEY_SIMPLEX,\n",
        "                        fontScale=0.75,\n",
        "                        color=gt_color,\n",
        "                        thickness=2,\n",
        "                        lineType=cv2.LINE_AA\n",
        "                    )\n",
        "                    cv2.putText(\n",
        "                        img_to_write,\n",
        "                        text=f\"PRED: {pred_class}\",\n",
        "                        org=(15, 60),\n",
        "                        fontFace=cv2.FONT_HERSHEY_SIMPLEX,\n",
        "                        fontScale=0.75,\n",
        "                        color=pred_color,\n",
        "                        thickness=2,\n",
        "                        lineType=cv2.LINE_AA\n",
        "                    )\n",
        "                    cv2.imwrite(\n",
        "                        os.path.join(RES_DIR, 'image_batch'+str(counter)+'image'+str(i)+'.jpg'), \n",
        "                        img_to_write*255.\n",
        "                    )\n",
        "\n",
        "            # calculate the accuracy for each class\n",
        "            correct  = (preds == labels).squeeze()\n",
        "            for i in range(len(preds)):\n",
        "                label = labels[i]\n",
        "                class_correct[label] += correct[i].item()\n",
        "                class_total[label] += 1\n",
        "        \n",
        "    epoch_loss = valid_running_loss / counter\n",
        "    epoch_acc = 100. * (valid_running_correct / len(testloader.dataset))\n",
        "\n",
        "    # print the accuracy for each class after evey epoch\n",
        "    # the values should increase as the training goes on\n",
        "    print('\\n')\n",
        "    for i in range(2):\n",
        "        print(f\"Accuracy of {classes[i]}: {100*class_correct[i]/class_total[i]}\")\n",
        "\n",
        "    return epoch_loss, epoch_acc\n"
      ]
    },
    {
      "cell_type": "code",
      "execution_count": null,
      "id": "93647d88",
      "metadata": {
        "colab": {
          "base_uri": "https://localhost:8080/",
          "height": 356
        },
        "id": "93647d88",
        "outputId": "ad7304a7-9f20-4f72-ddc2-c54602f38cba",
        "papermill": {
          "duration": 20812.644397,
          "end_time": "2022-11-26T06:24:20.512628",
          "exception": false,
          "start_time": "2022-11-26T00:37:27.868231",
          "status": "completed"
        },
        "tags": []
      },
      "outputs": [
        {
          "name": "stdout",
          "output_type": "stream",
          "text": [
            "[INFO]: Epoch 1 of 50\n",
            "Training\n"
          ]
        },
        {
          "name": "stderr",
          "output_type": "stream",
          "text": [
            "100%|██████████| 2461/2461 [27:28<00:00,  1.49it/s]\n"
          ]
        },
        {
          "name": "stdout",
          "output_type": "stream",
          "text": [
            "Validation\n"
          ]
        },
        {
          "name": "stderr",
          "output_type": "stream",
          "text": [
            "100%|██████████| 539/539 [02:53<00:00,  3.11it/s]\n"
          ]
        },
        {
          "name": "stdout",
          "output_type": "stream",
          "text": [
            "\n",
            "\n",
            "Accuracy of Fire: 91.70722211407437\n",
            "Accuracy of No_Fire: 48.9367816091954\n",
            "\n",
            "\n",
            "Training loss: 0.012, training acc: 99.611\n",
            "Validation loss: 0.723, validation acc: 74.434\n",
            "--------------------------------------------------\n",
            "[INFO]: Epoch 2 of 50\n",
            "Training\n"
          ]
        },
        {
          "name": "stderr",
          "output_type": "stream",
          "text": [
            "100%|██████████| 2461/2461 [27:30<00:00,  1.49it/s]\n"
          ]
        },
        {
          "name": "stdout",
          "output_type": "stream",
          "text": [
            "Validation\n"
          ]
        },
        {
          "name": "stderr",
          "output_type": "stream",
          "text": [
            "100%|██████████| 539/539 [02:53<00:00,  3.11it/s]\n"
          ]
        },
        {
          "name": "stdout",
          "output_type": "stream",
          "text": [
            "\n",
            "\n",
            "Accuracy of Fire: 92.75841931088183\n",
            "Accuracy of No_Fire: 45.37356321839081\n",
            "\n",
            "\n",
            "Training loss: 0.002, training acc: 99.914\n",
            "Validation loss: 0.917, validation acc: 73.622\n",
            "--------------------------------------------------\n",
            "[INFO]: Epoch 3 of 50\n",
            "Training\n"
          ]
        },
        {
          "name": "stderr",
          "output_type": "stream",
          "text": [
            "100%|██████████| 2461/2461 [27:30<00:00,  1.49it/s]\n"
          ]
        },
        {
          "name": "stdout",
          "output_type": "stream",
          "text": [
            "Validation\n"
          ]
        },
        {
          "name": "stderr",
          "output_type": "stream",
          "text": [
            "100%|██████████| 539/539 [02:52<00:00,  3.12it/s]\n"
          ]
        },
        {
          "name": "stdout",
          "output_type": "stream",
          "text": [
            "\n",
            "\n",
            "Accuracy of Fire: 88.24216468756083\n",
            "Accuracy of No_Fire: 68.96551724137932\n",
            "\n",
            "\n",
            "Training loss: 0.002, training acc: 99.949\n",
            "Validation loss: 0.586, validation acc: 80.457\n",
            "--------------------------------------------------\n",
            "[INFO]: Epoch 4 of 50\n",
            "Training\n"
          ]
        },
        {
          "name": "stderr",
          "output_type": "stream",
          "text": [
            "100%|██████████| 2461/2461 [27:29<00:00,  1.49it/s]\n"
          ]
        },
        {
          "name": "stdout",
          "output_type": "stream",
          "text": [
            "Validation\n"
          ]
        },
        {
          "name": "stderr",
          "output_type": "stream",
          "text": [
            "100%|██████████| 539/539 [02:53<00:00,  3.11it/s]\n"
          ]
        },
        {
          "name": "stdout",
          "output_type": "stream",
          "text": [
            "\n",
            "\n",
            "Accuracy of Fire: 89.44909480241385\n",
            "Accuracy of No_Fire: 65.11494252873563\n",
            "\n",
            "\n",
            "Training loss: 0.000, training acc: 99.992\n",
            "Validation loss: 0.668, validation acc: 79.622\n",
            "--------------------------------------------------\n",
            "[INFO]: Epoch 5 of 50\n",
            "Training\n"
          ]
        },
        {
          "name": "stderr",
          "output_type": "stream",
          "text": [
            "100%|██████████| 2461/2461 [27:29<00:00,  1.49it/s]\n"
          ]
        },
        {
          "name": "stdout",
          "output_type": "stream",
          "text": [
            "Validation\n"
          ]
        },
        {
          "name": "stderr",
          "output_type": "stream",
          "text": [
            "100%|██████████| 539/539 [02:52<00:00,  3.12it/s]\n"
          ]
        },
        {
          "name": "stdout",
          "output_type": "stream",
          "text": [
            "\n",
            "\n",
            "Accuracy of Fire: 87.7165660891571\n",
            "Accuracy of No_Fire: 71.20689655172414\n",
            "\n",
            "\n",
            "Training loss: 0.000, training acc: 100.000\n",
            "Validation loss: 0.631, validation acc: 81.049\n",
            "--------------------------------------------------\n",
            "[INFO]: Epoch 6 of 50\n",
            "Training\n"
          ]
        },
        {
          "name": "stderr",
          "output_type": "stream",
          "text": [
            "100%|██████████| 2461/2461 [27:30<00:00,  1.49it/s]\n"
          ]
        },
        {
          "name": "stdout",
          "output_type": "stream",
          "text": [
            "Validation\n"
          ]
        },
        {
          "name": "stderr",
          "output_type": "stream",
          "text": [
            "100%|██████████| 539/539 [02:52<00:00,  3.12it/s]\n"
          ]
        },
        {
          "name": "stdout",
          "output_type": "stream",
          "text": [
            "\n",
            "\n",
            "Accuracy of Fire: 87.91123223671404\n",
            "Accuracy of No_Fire: 70.08620689655173\n",
            "\n",
            "\n",
            "Training loss: 0.000, training acc: 100.000\n",
            "Validation loss: 0.648, validation acc: 80.713\n",
            "--------------------------------------------------\n",
            "[INFO]: Epoch 7 of 50\n",
            "Training\n"
          ]
        },
        {
          "name": "stderr",
          "output_type": "stream",
          "text": [
            "100%|██████████| 2461/2461 [27:30<00:00,  1.49it/s]\n"
          ]
        },
        {
          "name": "stdout",
          "output_type": "stream",
          "text": [
            "Validation\n"
          ]
        },
        {
          "name": "stderr",
          "output_type": "stream",
          "text": [
            "100%|██████████| 539/539 [02:52<00:00,  3.12it/s]\n"
          ]
        },
        {
          "name": "stdout",
          "output_type": "stream",
          "text": [
            "\n",
            "\n",
            "Accuracy of Fire: 86.78216858088379\n",
            "Accuracy of No_Fire: 70.20114942528735\n",
            "\n",
            "\n",
            "Training loss: 0.000, training acc: 100.000\n",
            "Validation loss: 0.656, validation acc: 80.086\n",
            "--------------------------------------------------\n",
            "[INFO]: Epoch 8 of 50\n",
            "Training\n"
          ]
        },
        {
          "name": "stderr",
          "output_type": "stream",
          "text": [
            "100%|██████████| 2461/2461 [27:29<00:00,  1.49it/s]\n"
          ]
        },
        {
          "name": "stdout",
          "output_type": "stream",
          "text": [
            "Validation\n"
          ]
        },
        {
          "name": "stderr",
          "output_type": "stream",
          "text": [
            "100%|██████████| 539/539 [02:52<00:00,  3.12it/s]\n"
          ]
        },
        {
          "name": "stdout",
          "output_type": "stream",
          "text": [
            "\n",
            "\n",
            "Accuracy of Fire: 85.10803971189411\n",
            "Accuracy of No_Fire: 71.63793103448276\n",
            "\n",
            "\n",
            "Training loss: 0.000, training acc: 100.000\n",
            "Validation loss: 0.652, validation acc: 79.668\n",
            "--------------------------------------------------\n",
            "[INFO]: Epoch 9 of 50\n",
            "Training\n"
          ]
        },
        {
          "name": "stderr",
          "output_type": "stream",
          "text": [
            "100%|██████████| 2461/2461 [27:30<00:00,  1.49it/s]\n"
          ]
        },
        {
          "name": "stdout",
          "output_type": "stream",
          "text": [
            "Validation\n"
          ]
        },
        {
          "name": "stderr",
          "output_type": "stream",
          "text": [
            "100%|██████████| 539/539 [02:52<00:00,  3.12it/s]\n"
          ]
        },
        {
          "name": "stdout",
          "output_type": "stream",
          "text": [
            "\n",
            "\n",
            "Accuracy of Fire: 83.76484329375121\n",
            "Accuracy of No_Fire: 72.64367816091954\n",
            "\n",
            "\n",
            "Training loss: 0.000, training acc: 100.000\n",
            "Validation loss: 0.656, validation acc: 79.274\n",
            "--------------------------------------------------\n",
            "[INFO]: Epoch 10 of 50\n",
            "Training\n"
          ]
        },
        {
          "name": "stderr",
          "output_type": "stream",
          "text": [
            "100%|██████████| 2461/2461 [27:29<00:00,  1.49it/s]\n"
          ]
        },
        {
          "name": "stdout",
          "output_type": "stream",
          "text": [
            "Validation\n"
          ]
        },
        {
          "name": "stderr",
          "output_type": "stream",
          "text": [
            "100%|██████████| 539/539 [02:53<00:00,  3.12it/s]\n"
          ]
        },
        {
          "name": "stdout",
          "output_type": "stream",
          "text": [
            "\n",
            "\n",
            "Accuracy of Fire: 81.62351567062488\n",
            "Accuracy of No_Fire: 75.86206896551724\n",
            "\n",
            "\n",
            "Training loss: 0.000, training acc: 100.000\n",
            "Validation loss: 0.659, validation acc: 79.297\n",
            "--------------------------------------------------\n",
            "[INFO]: Epoch 11 of 50\n",
            "Training\n"
          ]
        },
        {
          "name": "stderr",
          "output_type": "stream",
          "text": [
            "100%|██████████| 2461/2461 [27:29<00:00,  1.49it/s]\n"
          ]
        },
        {
          "name": "stdout",
          "output_type": "stream",
          "text": [
            "Validation\n"
          ]
        },
        {
          "name": "stderr",
          "output_type": "stream",
          "text": [
            "100%|██████████| 539/539 [02:52<00:00,  3.12it/s]\n"
          ]
        },
        {
          "name": "stdout",
          "output_type": "stream",
          "text": [
            "\n",
            "\n",
            "Accuracy of Fire: 83.60911037570567\n",
            "Accuracy of No_Fire: 70.77586206896552\n",
            "\n",
            "\n",
            "Training loss: 0.000, training acc: 100.000\n",
            "Validation loss: 0.691, validation acc: 78.426\n",
            "--------------------------------------------------\n",
            "[INFO]: Epoch 12 of 50\n",
            "Training\n"
          ]
        },
        {
          "name": "stderr",
          "output_type": "stream",
          "text": [
            "100%|██████████| 2461/2461 [27:30<00:00,  1.49it/s]\n"
          ]
        },
        {
          "name": "stdout",
          "output_type": "stream",
          "text": [
            "Validation\n"
          ]
        },
        {
          "name": "stderr",
          "output_type": "stream",
          "text": [
            "100%|██████████| 539/539 [02:53<00:00,  3.11it/s]\n"
          ]
        },
        {
          "name": "stdout",
          "output_type": "stream",
          "text": [
            "\n",
            "\n",
            "Accuracy of Fire: 82.07124781000584\n",
            "Accuracy of No_Fire: 73.1896551724138\n",
            "\n",
            "\n",
            "Training loss: 0.000, training acc: 100.000\n",
            "Validation loss: 0.699, validation acc: 78.484\n",
            "--------------------------------------------------\n",
            "[INFO]: Epoch 13 of 50\n",
            "Training\n"
          ]
        },
        {
          "name": "stderr",
          "output_type": "stream",
          "text": [
            "100%|██████████| 2461/2461 [27:30<00:00,  1.49it/s]\n"
          ]
        },
        {
          "name": "stdout",
          "output_type": "stream",
          "text": [
            "Validation\n"
          ]
        },
        {
          "name": "stderr",
          "output_type": "stream",
          "text": [
            "100%|██████████| 539/539 [02:52<00:00,  3.12it/s]\n"
          ]
        },
        {
          "name": "stdout",
          "output_type": "stream",
          "text": [
            "\n",
            "\n",
            "Accuracy of Fire: 79.56005450652131\n",
            "Accuracy of No_Fire: 78.47701149425288\n",
            "\n",
            "\n",
            "Training loss: 0.000, training acc: 100.000\n",
            "Validation loss: 0.705, validation acc: 79.123\n",
            "--------------------------------------------------\n",
            "[INFO]: Epoch 14 of 50\n",
            "Training\n"
          ]
        },
        {
          "name": "stderr",
          "output_type": "stream",
          "text": [
            "100%|██████████| 2461/2461 [27:29<00:00,  1.49it/s]\n"
          ]
        },
        {
          "name": "stdout",
          "output_type": "stream",
          "text": [
            "Validation\n"
          ]
        },
        {
          "name": "stderr",
          "output_type": "stream",
          "text": [
            "100%|██████████| 539/539 [02:52<00:00,  3.12it/s]\n"
          ]
        },
        {
          "name": "stdout",
          "output_type": "stream",
          "text": [
            "\n",
            "\n",
            "Accuracy of Fire: 81.40938290831224\n",
            "Accuracy of No_Fire: 73.53448275862068\n",
            "\n",
            "\n",
            "Training loss: 0.000, training acc: 100.000\n",
            "Validation loss: 0.724, validation acc: 78.229\n",
            "--------------------------------------------------\n",
            "[INFO]: Epoch 15 of 50\n",
            "Training\n"
          ]
        },
        {
          "name": "stderr",
          "output_type": "stream",
          "text": [
            "100%|██████████| 2461/2461 [27:29<00:00,  1.49it/s]\n"
          ]
        },
        {
          "name": "stdout",
          "output_type": "stream",
          "text": [
            "Validation\n"
          ]
        },
        {
          "name": "stderr",
          "output_type": "stream",
          "text": [
            "100%|██████████| 539/539 [02:52<00:00,  3.12it/s]\n"
          ]
        },
        {
          "name": "stdout",
          "output_type": "stream",
          "text": [
            "\n",
            "\n",
            "Accuracy of Fire: 80.72805139186295\n",
            "Accuracy of No_Fire: 74.2816091954023\n",
            "\n",
            "\n",
            "Training loss: 0.000, training acc: 100.000\n",
            "Validation loss: 0.747, validation acc: 78.125\n",
            "--------------------------------------------------\n",
            "[INFO]: Epoch 16 of 50\n",
            "Training\n"
          ]
        },
        {
          "name": "stderr",
          "output_type": "stream",
          "text": [
            "100%|██████████| 2461/2461 [27:29<00:00,  1.49it/s]\n"
          ]
        },
        {
          "name": "stdout",
          "output_type": "stream",
          "text": [
            "Validation\n"
          ]
        },
        {
          "name": "stderr",
          "output_type": "stream",
          "text": [
            "100%|██████████| 539/539 [02:52<00:00,  3.12it/s]\n"
          ]
        },
        {
          "name": "stdout",
          "output_type": "stream",
          "text": [
            "\n",
            "\n",
            "Accuracy of Fire: 80.06618649016936\n",
            "Accuracy of No_Fire: 75.0\n",
            "\n",
            "\n",
            "Training loss: 0.000, training acc: 100.000\n",
            "Validation loss: 0.762, validation acc: 78.020\n",
            "--------------------------------------------------\n",
            "[INFO]: Epoch 17 of 50\n",
            "Training\n"
          ]
        },
        {
          "name": "stderr",
          "output_type": "stream",
          "text": [
            "100%|██████████| 2461/2461 [27:29<00:00,  1.49it/s]\n"
          ]
        },
        {
          "name": "stdout",
          "output_type": "stream",
          "text": [
            "Validation\n"
          ]
        },
        {
          "name": "stderr",
          "output_type": "stream",
          "text": [
            "100%|██████████| 539/539 [02:52<00:00,  3.12it/s]\n"
          ]
        },
        {
          "name": "stdout",
          "output_type": "stream",
          "text": [
            "\n",
            "\n",
            "Accuracy of Fire: 79.40432158847577\n",
            "Accuracy of No_Fire: 75.48850574712644\n",
            "\n",
            "\n",
            "Training loss: 0.000, training acc: 100.000\n",
            "Validation loss: 0.787, validation acc: 77.823\n",
            "--------------------------------------------------\n",
            "[INFO]: Epoch 18 of 50\n",
            "Training\n"
          ]
        },
        {
          "name": "stderr",
          "output_type": "stream",
          "text": [
            "100%|██████████| 2461/2461 [27:29<00:00,  1.49it/s]\n"
          ]
        },
        {
          "name": "stdout",
          "output_type": "stream",
          "text": [
            "Validation\n"
          ]
        },
        {
          "name": "stderr",
          "output_type": "stream",
          "text": [
            "100%|██████████| 539/539 [02:52<00:00,  3.12it/s]\n"
          ]
        },
        {
          "name": "stdout",
          "output_type": "stream",
          "text": [
            "\n",
            "\n",
            "Accuracy of Fire: 79.19018882616314\n",
            "Accuracy of No_Fire: 75.05747126436782\n",
            "\n",
            "\n",
            "Training loss: 0.000, training acc: 100.000\n",
            "Validation loss: 0.808, validation acc: 77.521\n",
            "--------------------------------------------------\n",
            "[INFO]: Epoch 19 of 50\n",
            "Training\n"
          ]
        },
        {
          "name": "stderr",
          "output_type": "stream",
          "text": [
            "100%|██████████| 2461/2461 [27:28<00:00,  1.49it/s]\n"
          ]
        },
        {
          "name": "stdout",
          "output_type": "stream",
          "text": [
            "Validation\n"
          ]
        },
        {
          "name": "stderr",
          "output_type": "stream",
          "text": [
            "100%|██████████| 539/539 [02:53<00:00,  3.11it/s]\n"
          ]
        },
        {
          "name": "stdout",
          "output_type": "stream",
          "text": [
            "\n",
            "\n",
            "Accuracy of Fire: 75.99766400622931\n",
            "Accuracy of No_Fire: 78.96551724137932\n",
            "\n",
            "\n",
            "Training loss: 0.000, training acc: 100.000\n",
            "Validation loss: 0.849, validation acc: 77.196\n",
            "--------------------------------------------------\n",
            "[INFO]: Epoch 20 of 50\n",
            "Training\n"
          ]
        },
        {
          "name": "stderr",
          "output_type": "stream",
          "text": [
            "100%|██████████| 2461/2461 [27:29<00:00,  1.49it/s]\n"
          ]
        },
        {
          "name": "stdout",
          "output_type": "stream",
          "text": [
            "Validation\n"
          ]
        },
        {
          "name": "stderr",
          "output_type": "stream",
          "text": [
            "100%|██████████| 539/539 [02:53<00:00,  3.11it/s]\n"
          ]
        },
        {
          "name": "stdout",
          "output_type": "stream",
          "text": [
            "\n",
            "\n",
            "Accuracy of Fire: 78.70352345727078\n",
            "Accuracy of No_Fire: 73.62068965517241\n",
            "\n",
            "\n",
            "Training loss: 0.000, training acc: 100.000\n",
            "Validation loss: 0.857, validation acc: 76.651\n",
            "--------------------------------------------------\n",
            "[INFO]: Epoch 21 of 50\n",
            "Training\n"
          ]
        },
        {
          "name": "stderr",
          "output_type": "stream",
          "text": [
            "100%|██████████| 2461/2461 [26:57<00:00,  1.52it/s]\n"
          ]
        },
        {
          "name": "stdout",
          "output_type": "stream",
          "text": [
            "Validation\n"
          ]
        },
        {
          "name": "stderr",
          "output_type": "stream",
          "text": [
            "100%|██████████| 539/539 [02:51<00:00,  3.14it/s]\n"
          ]
        },
        {
          "name": "stdout",
          "output_type": "stream",
          "text": [
            "\n",
            "\n",
            "Accuracy of Fire: 77.0293945882811\n",
            "Accuracy of No_Fire: 74.88505747126437\n",
            "\n",
            "\n",
            "Training loss: 0.000, training acc: 100.000\n",
            "Validation loss: 0.894, validation acc: 76.163\n",
            "--------------------------------------------------\n",
            "[INFO]: Epoch 22 of 50\n",
            "Training\n"
          ]
        },
        {
          "name": "stderr",
          "output_type": "stream",
          "text": [
            "100%|██████████| 2461/2461 [26:41<00:00,  1.54it/s]\n"
          ]
        },
        {
          "name": "stdout",
          "output_type": "stream",
          "text": [
            "Validation\n"
          ]
        },
        {
          "name": "stderr",
          "output_type": "stream",
          "text": [
            "100%|██████████| 539/539 [02:51<00:00,  3.14it/s]\n"
          ]
        },
        {
          "name": "stdout",
          "output_type": "stream",
          "text": [
            "\n",
            "\n",
            "Accuracy of Fire: 77.53552657192914\n",
            "Accuracy of No_Fire: 73.1896551724138\n",
            "\n",
            "\n",
            "Training loss: 0.000, training acc: 100.000\n",
            "Validation loss: 0.913, validation acc: 75.780\n",
            "--------------------------------------------------\n",
            "[INFO]: Epoch 23 of 50\n",
            "Training\n"
          ]
        },
        {
          "name": "stderr",
          "output_type": "stream",
          "text": [
            "100%|██████████| 2461/2461 [27:25<00:00,  1.50it/s]\n"
          ]
        },
        {
          "name": "stdout",
          "output_type": "stream",
          "text": [
            "Validation\n"
          ]
        },
        {
          "name": "stderr",
          "output_type": "stream",
          "text": [
            "100%|██████████| 539/539 [02:52<00:00,  3.12it/s]\n"
          ]
        },
        {
          "name": "stdout",
          "output_type": "stream",
          "text": [
            "\n",
            "\n",
            "Accuracy of Fire: 74.84913373564338\n",
            "Accuracy of No_Fire: 76.89655172413794\n",
            "\n",
            "\n",
            "Training loss: 0.000, training acc: 100.000\n",
            "Validation loss: 0.953, validation acc: 75.676\n",
            "--------------------------------------------------\n",
            "[INFO]: Epoch 24 of 50\n",
            "Training\n"
          ]
        },
        {
          "name": "stderr",
          "output_type": "stream",
          "text": [
            "100%|██████████| 2461/2461 [27:09<00:00,  1.51it/s]\n"
          ]
        },
        {
          "name": "stdout",
          "output_type": "stream",
          "text": [
            "Validation\n"
          ]
        },
        {
          "name": "stderr",
          "output_type": "stream",
          "text": [
            "100%|██████████| 539/539 [02:51<00:00,  3.14it/s]\n"
          ]
        },
        {
          "name": "stdout",
          "output_type": "stream",
          "text": [
            "\n",
            "\n",
            "Accuracy of Fire: 73.81740315359158\n",
            "Accuracy of No_Fire: 78.85057471264368\n",
            "\n",
            "\n",
            "Training loss: 0.000, training acc: 100.000\n",
            "Validation loss: 0.975, validation acc: 75.850\n",
            "--------------------------------------------------\n",
            "[INFO]: Epoch 25 of 50\n",
            "Training\n"
          ]
        },
        {
          "name": "stderr",
          "output_type": "stream",
          "text": [
            "100%|██████████| 2461/2461 [26:32<00:00,  1.55it/s]\n"
          ]
        },
        {
          "name": "stdout",
          "output_type": "stream",
          "text": [
            "Validation\n"
          ]
        },
        {
          "name": "stderr",
          "output_type": "stream",
          "text": [
            "100%|██████████| 539/539 [02:51<00:00,  3.14it/s]\n"
          ]
        },
        {
          "name": "stdout",
          "output_type": "stream",
          "text": [
            "\n",
            "\n",
            "Accuracy of Fire: 72.31847381740316\n",
            "Accuracy of No_Fire: 80.60344827586206\n",
            "\n",
            "\n",
            "Training loss: 0.000, training acc: 100.000\n",
            "Validation loss: 1.025, validation acc: 75.664\n",
            "--------------------------------------------------\n",
            "[INFO]: Epoch 26 of 50\n",
            "Training\n"
          ]
        },
        {
          "name": "stderr",
          "output_type": "stream",
          "text": [
            "100%|██████████| 2461/2461 [26:32<00:00,  1.55it/s]\n"
          ]
        },
        {
          "name": "stdout",
          "output_type": "stream",
          "text": [
            "Validation\n"
          ]
        },
        {
          "name": "stderr",
          "output_type": "stream",
          "text": [
            "100%|██████████| 539/539 [02:51<00:00,  3.14it/s]\n"
          ]
        },
        {
          "name": "stdout",
          "output_type": "stream",
          "text": [
            "\n",
            "\n",
            "Accuracy of Fire: 76.27019661280903\n",
            "Accuracy of No_Fire: 72.44252873563218\n",
            "\n",
            "\n",
            "Training loss: 0.000, training acc: 100.000\n",
            "Validation loss: 1.014, validation acc: 74.724\n",
            "--------------------------------------------------\n",
            "[INFO]: Epoch 27 of 50\n",
            "Training\n"
          ]
        },
        {
          "name": "stderr",
          "output_type": "stream",
          "text": [
            "100%|██████████| 2461/2461 [26:32<00:00,  1.55it/s]\n"
          ]
        },
        {
          "name": "stdout",
          "output_type": "stream",
          "text": [
            "Validation\n"
          ]
        },
        {
          "name": "stderr",
          "output_type": "stream",
          "text": [
            "100%|██████████| 539/539 [02:51<00:00,  3.14it/s]\n"
          ]
        },
        {
          "name": "stdout",
          "output_type": "stream",
          "text": [
            "\n",
            "\n",
            "Accuracy of Fire: 76.64006229316722\n",
            "Accuracy of No_Fire: 70.28735632183908\n",
            "\n",
            "\n",
            "Training loss: 0.000, training acc: 100.000\n",
            "Validation loss: 1.045, validation acc: 74.075\n",
            "--------------------------------------------------\n",
            "[INFO]: Epoch 28 of 50\n",
            "Training\n"
          ]
        },
        {
          "name": "stderr",
          "output_type": "stream",
          "text": [
            "100%|██████████| 2461/2461 [26:39<00:00,  1.54it/s]\n"
          ]
        },
        {
          "name": "stdout",
          "output_type": "stream",
          "text": [
            "Validation\n"
          ]
        },
        {
          "name": "stderr",
          "output_type": "stream",
          "text": [
            "100%|██████████| 539/539 [02:51<00:00,  3.14it/s]\n"
          ]
        },
        {
          "name": "stdout",
          "output_type": "stream",
          "text": [
            "\n",
            "\n",
            "Accuracy of Fire: 76.01713062098501\n",
            "Accuracy of No_Fire: 71.14942528735632\n",
            "\n",
            "\n",
            "Training loss: 0.000, training acc: 100.000\n",
            "Validation loss: 1.069, validation acc: 74.051\n",
            "--------------------------------------------------\n",
            "[INFO]: Epoch 29 of 50\n",
            "Training\n"
          ]
        },
        {
          "name": "stderr",
          "output_type": "stream",
          "text": [
            "100%|██████████| 2461/2461 [26:45<00:00,  1.53it/s]\n"
          ]
        },
        {
          "name": "stdout",
          "output_type": "stream",
          "text": [
            "Validation\n"
          ]
        },
        {
          "name": "stderr",
          "output_type": "stream",
          "text": [
            "100%|██████████| 539/539 [02:52<00:00,  3.12it/s]\n"
          ]
        },
        {
          "name": "stdout",
          "output_type": "stream",
          "text": [
            "\n",
            "\n",
            "Accuracy of Fire: 90.71442476153396\n",
            "Accuracy of No_Fire: 43.85057471264368\n",
            "\n",
            "\n",
            "Training loss: 0.012, training acc: 99.576\n",
            "Validation loss: 1.128, validation acc: 71.788\n",
            "--------------------------------------------------\n",
            "[INFO]: Epoch 30 of 50\n",
            "Training\n"
          ]
        },
        {
          "name": "stderr",
          "output_type": "stream",
          "text": [
            "100%|██████████| 2461/2461 [27:26<00:00,  1.49it/s]\n"
          ]
        },
        {
          "name": "stdout",
          "output_type": "stream",
          "text": [
            "Validation\n"
          ]
        },
        {
          "name": "stderr",
          "output_type": "stream",
          "text": [
            "100%|██████████| 539/539 [02:51<00:00,  3.15it/s]\n"
          ]
        },
        {
          "name": "stdout",
          "output_type": "stream",
          "text": [
            "\n",
            "\n",
            "Accuracy of Fire: 84.93284017909285\n",
            "Accuracy of No_Fire: 72.816091954023\n",
            "\n",
            "\n",
            "Training loss: 0.003, training acc: 99.909\n",
            "Validation loss: 0.775, validation acc: 80.039\n",
            "--------------------------------------------------\n",
            "[INFO]: Epoch 31 of 50\n",
            "Training\n"
          ]
        },
        {
          "name": "stderr",
          "output_type": "stream",
          "text": [
            "100%|██████████| 2461/2461 [27:26<00:00,  1.49it/s]\n"
          ]
        },
        {
          "name": "stdout",
          "output_type": "stream",
          "text": [
            "Validation\n"
          ]
        },
        {
          "name": "stderr",
          "output_type": "stream",
          "text": [
            "100%|██████████| 539/539 [02:52<00:00,  3.12it/s]\n"
          ]
        },
        {
          "name": "stdout",
          "output_type": "stream",
          "text": [
            "\n",
            "\n",
            "Accuracy of Fire: 79.38485497372007\n",
            "Accuracy of No_Fire: 66.52298850574712\n",
            "\n",
            "\n",
            "Training loss: 0.003, training acc: 99.914\n",
            "Validation loss: 0.854, validation acc: 74.191\n",
            "--------------------------------------------------\n",
            "[INFO]: Epoch 32 of 50\n",
            "Training\n"
          ]
        },
        {
          "name": "stderr",
          "output_type": "stream",
          "text": [
            "100%|██████████| 2461/2461 [27:27<00:00,  1.49it/s]\n"
          ]
        },
        {
          "name": "stdout",
          "output_type": "stream",
          "text": [
            "Validation\n"
          ]
        },
        {
          "name": "stderr",
          "output_type": "stream",
          "text": [
            "100%|██████████| 539/539 [02:50<00:00,  3.15it/s]\n"
          ]
        },
        {
          "name": "stdout",
          "output_type": "stream",
          "text": [
            "\n",
            "\n",
            "Accuracy of Fire: 86.0619038349231\n",
            "Accuracy of No_Fire: 57.95977011494253\n",
            "\n",
            "\n",
            "Training loss: 0.001, training acc: 99.972\n",
            "Validation loss: 0.986, validation acc: 74.713\n",
            "--------------------------------------------------\n",
            "[INFO]: Epoch 33 of 50\n",
            "Training\n"
          ]
        },
        {
          "name": "stderr",
          "output_type": "stream",
          "text": [
            "100%|██████████| 2461/2461 [27:27<00:00,  1.49it/s]\n"
          ]
        },
        {
          "name": "stdout",
          "output_type": "stream",
          "text": [
            "Validation\n"
          ]
        },
        {
          "name": "stderr",
          "output_type": "stream",
          "text": [
            "100%|██████████| 539/539 [02:52<00:00,  3.13it/s]\n"
          ]
        },
        {
          "name": "stdout",
          "output_type": "stream",
          "text": [
            "\n",
            "\n",
            "Accuracy of Fire: 78.76192330153786\n",
            "Accuracy of No_Fire: 74.2816091954023\n",
            "\n",
            "\n",
            "Training loss: 0.001, training acc: 99.964\n",
            "Validation loss: 0.982, validation acc: 76.953\n",
            "--------------------------------------------------\n",
            "[INFO]: Epoch 34 of 50\n",
            "Training\n"
          ]
        },
        {
          "name": "stderr",
          "output_type": "stream",
          "text": [
            "100%|██████████| 2461/2461 [27:27<00:00,  1.49it/s]\n"
          ]
        },
        {
          "name": "stdout",
          "output_type": "stream",
          "text": [
            "Validation\n"
          ]
        },
        {
          "name": "stderr",
          "output_type": "stream",
          "text": [
            "100%|██████████| 539/539 [02:51<00:00,  3.14it/s]\n"
          ]
        },
        {
          "name": "stdout",
          "output_type": "stream",
          "text": [
            "\n",
            "\n",
            "Accuracy of Fire: 81.27311660502238\n",
            "Accuracy of No_Fire: 70.02873563218391\n",
            "\n",
            "\n",
            "Training loss: 0.001, training acc: 99.982\n",
            "Validation loss: 0.953, validation acc: 76.732\n",
            "--------------------------------------------------\n",
            "[INFO]: Epoch 35 of 50\n",
            "Training\n"
          ]
        },
        {
          "name": "stderr",
          "output_type": "stream",
          "text": [
            "100%|██████████| 2461/2461 [27:27<00:00,  1.49it/s]\n"
          ]
        },
        {
          "name": "stdout",
          "output_type": "stream",
          "text": [
            "Validation\n"
          ]
        },
        {
          "name": "stderr",
          "output_type": "stream",
          "text": [
            "100%|██████████| 539/539 [02:51<00:00,  3.14it/s]\n"
          ]
        },
        {
          "name": "stdout",
          "output_type": "stream",
          "text": [
            "\n",
            "\n",
            "Accuracy of Fire: 81.31204983453378\n",
            "Accuracy of No_Fire: 68.96551724137932\n",
            "\n",
            "\n",
            "Training loss: 0.000, training acc: 100.000\n",
            "Validation loss: 1.114, validation acc: 76.326\n",
            "--------------------------------------------------\n",
            "[INFO]: Epoch 36 of 50\n",
            "Training\n"
          ]
        },
        {
          "name": "stderr",
          "output_type": "stream",
          "text": [
            "100%|██████████| 2461/2461 [27:26<00:00,  1.49it/s]\n"
          ]
        },
        {
          "name": "stdout",
          "output_type": "stream",
          "text": [
            "Validation\n"
          ]
        },
        {
          "name": "stderr",
          "output_type": "stream",
          "text": [
            "100%|██████████| 539/539 [02:51<00:00,  3.14it/s]\n"
          ]
        },
        {
          "name": "stdout",
          "output_type": "stream",
          "text": [
            "\n",
            "\n",
            "Accuracy of Fire: 82.88884562974499\n",
            "Accuracy of No_Fire: 64.51149425287356\n",
            "\n",
            "\n",
            "Training loss: 0.000, training acc: 100.000\n",
            "Validation loss: 1.159, validation acc: 75.467\n",
            "--------------------------------------------------\n",
            "[INFO]: Epoch 37 of 50\n",
            "Training\n"
          ]
        },
        {
          "name": "stderr",
          "output_type": "stream",
          "text": [
            "100%|██████████| 2461/2461 [27:26<00:00,  1.49it/s]\n"
          ]
        },
        {
          "name": "stdout",
          "output_type": "stream",
          "text": [
            "Validation\n"
          ]
        },
        {
          "name": "stderr",
          "output_type": "stream",
          "text": [
            "100%|██████████| 539/539 [02:51<00:00,  3.14it/s]\n"
          ]
        },
        {
          "name": "stdout",
          "output_type": "stream",
          "text": [
            "\n",
            "\n",
            "Accuracy of Fire: 83.47284407241581\n",
            "Accuracy of No_Fire: 63.160919540229884\n",
            "\n",
            "\n",
            "Training loss: 0.000, training acc: 100.000\n",
            "Validation loss: 1.185, validation acc: 75.270\n",
            "--------------------------------------------------\n",
            "[INFO]: Epoch 38 of 50\n",
            "Training\n"
          ]
        },
        {
          "name": "stderr",
          "output_type": "stream",
          "text": [
            "100%|██████████| 2461/2461 [27:26<00:00,  1.49it/s]\n"
          ]
        },
        {
          "name": "stdout",
          "output_type": "stream",
          "text": [
            "Validation\n"
          ]
        },
        {
          "name": "stderr",
          "output_type": "stream",
          "text": [
            "100%|██████████| 539/539 [02:52<00:00,  3.13it/s]\n"
          ]
        },
        {
          "name": "stdout",
          "output_type": "stream",
          "text": [
            "\n",
            "\n",
            "Accuracy of Fire: 83.842709752774\n",
            "Accuracy of No_Fire: 61.0632183908046\n",
            "\n",
            "\n",
            "Training loss: 0.000, training acc: 100.000\n",
            "Validation loss: 1.216, validation acc: 74.643\n",
            "--------------------------------------------------\n",
            "[INFO]: Epoch 39 of 50\n",
            "Training\n"
          ]
        },
        {
          "name": "stderr",
          "output_type": "stream",
          "text": [
            "100%|██████████| 2461/2461 [27:27<00:00,  1.49it/s]\n"
          ]
        },
        {
          "name": "stdout",
          "output_type": "stream",
          "text": [
            "Validation\n"
          ]
        },
        {
          "name": "stderr",
          "output_type": "stream",
          "text": [
            "100%|██████████| 539/539 [02:51<00:00,  3.14it/s]\n"
          ]
        },
        {
          "name": "stdout",
          "output_type": "stream",
          "text": [
            "\n",
            "\n",
            "Accuracy of Fire: 84.56297449873468\n",
            "Accuracy of No_Fire: 56.752873563218394\n",
            "\n",
            "\n",
            "Training loss: 0.000, training acc: 100.000\n",
            "Validation loss: 1.275, validation acc: 73.332\n",
            "--------------------------------------------------\n",
            "[INFO]: Epoch 40 of 50\n",
            "Training\n"
          ]
        },
        {
          "name": "stderr",
          "output_type": "stream",
          "text": [
            "100%|██████████| 2461/2461 [27:26<00:00,  1.49it/s]\n"
          ]
        },
        {
          "name": "stdout",
          "output_type": "stream",
          "text": [
            "Validation\n"
          ]
        },
        {
          "name": "stderr",
          "output_type": "stream",
          "text": [
            "100%|██████████| 539/539 [02:52<00:00,  3.12it/s]\n"
          ]
        },
        {
          "name": "stdout",
          "output_type": "stream",
          "text": [
            "\n",
            "\n",
            "Accuracy of Fire: 83.5117773019272\n",
            "Accuracy of No_Fire: 60.28735632183908\n",
            "\n",
            "\n",
            "Training loss: 0.000, training acc: 100.000\n",
            "Validation loss: 1.245, validation acc: 74.133\n",
            "--------------------------------------------------\n",
            "[INFO]: Epoch 41 of 50\n",
            "Training\n"
          ]
        },
        {
          "name": "stderr",
          "output_type": "stream",
          "text": [
            "100%|██████████| 2461/2461 [27:27<00:00,  1.49it/s]\n"
          ]
        },
        {
          "name": "stdout",
          "output_type": "stream",
          "text": [
            "Validation\n"
          ]
        },
        {
          "name": "stderr",
          "output_type": "stream",
          "text": [
            "100%|██████████| 539/539 [02:51<00:00,  3.15it/s]\n"
          ]
        },
        {
          "name": "stdout",
          "output_type": "stream",
          "text": [
            "\n",
            "\n",
            "Accuracy of Fire: 84.11524235935372\n",
            "Accuracy of No_Fire: 56.58045977011494\n",
            "\n",
            "\n",
            "Training loss: 0.000, training acc: 100.000\n",
            "Validation loss: 1.300, validation acc: 72.995\n",
            "--------------------------------------------------\n",
            "[INFO]: Epoch 42 of 50\n",
            "Training\n"
          ]
        },
        {
          "name": "stderr",
          "output_type": "stream",
          "text": [
            "100%|██████████| 2461/2461 [27:26<00:00,  1.49it/s]\n"
          ]
        },
        {
          "name": "stdout",
          "output_type": "stream",
          "text": [
            "Validation\n"
          ]
        },
        {
          "name": "stderr",
          "output_type": "stream",
          "text": [
            "100%|██████████| 539/539 [02:52<00:00,  3.12it/s]\n"
          ]
        },
        {
          "name": "stdout",
          "output_type": "stream",
          "text": [
            "\n",
            "\n",
            "Accuracy of Fire: 83.53124391668288\n",
            "Accuracy of No_Fire: 58.10344827586207\n",
            "\n",
            "\n",
            "Training loss: 0.000, training acc: 100.000\n",
            "Validation loss: 1.296, validation acc: 73.262\n",
            "--------------------------------------------------\n",
            "[INFO]: Epoch 43 of 50\n",
            "Training\n"
          ]
        },
        {
          "name": "stderr",
          "output_type": "stream",
          "text": [
            "100%|██████████| 2461/2461 [27:27<00:00,  1.49it/s]\n"
          ]
        },
        {
          "name": "stdout",
          "output_type": "stream",
          "text": [
            "Validation\n"
          ]
        },
        {
          "name": "stderr",
          "output_type": "stream",
          "text": [
            "100%|██████████| 539/539 [02:52<00:00,  3.13it/s]\n"
          ]
        },
        {
          "name": "stdout",
          "output_type": "stream",
          "text": [
            "\n",
            "\n",
            "Accuracy of Fire: 83.97897605606386\n",
            "Accuracy of No_Fire: 55.804597701149426\n",
            "\n",
            "\n",
            "Training loss: 0.000, training acc: 100.000\n",
            "Validation loss: 1.342, validation acc: 72.601\n",
            "--------------------------------------------------\n",
            "[INFO]: Epoch 44 of 50\n",
            "Training\n"
          ]
        },
        {
          "name": "stderr",
          "output_type": "stream",
          "text": [
            "100%|██████████| 2461/2461 [27:28<00:00,  1.49it/s]\n"
          ]
        },
        {
          "name": "stdout",
          "output_type": "stream",
          "text": [
            "Validation\n"
          ]
        },
        {
          "name": "stderr",
          "output_type": "stream",
          "text": [
            "100%|██████████| 539/539 [02:52<00:00,  3.12it/s]\n"
          ]
        },
        {
          "name": "stdout",
          "output_type": "stream",
          "text": [
            "\n",
            "\n",
            "Accuracy of Fire: 84.85497372007008\n",
            "Accuracy of No_Fire: 51.7816091954023\n",
            "\n",
            "\n",
            "Training loss: 0.000, training acc: 100.000\n",
            "Validation loss: 1.412, validation acc: 71.498\n",
            "--------------------------------------------------\n",
            "[INFO]: Epoch 45 of 50\n",
            "Training\n"
          ]
        },
        {
          "name": "stderr",
          "output_type": "stream",
          "text": [
            "100%|██████████| 2461/2461 [27:28<00:00,  1.49it/s]\n"
          ]
        },
        {
          "name": "stdout",
          "output_type": "stream",
          "text": [
            "Validation\n"
          ]
        },
        {
          "name": "stderr",
          "output_type": "stream",
          "text": [
            "100%|██████████| 539/539 [02:52<00:00,  3.12it/s]\n"
          ]
        },
        {
          "name": "stdout",
          "output_type": "stream",
          "text": [
            "\n",
            "\n",
            "Accuracy of Fire: 83.43391084290442\n",
            "Accuracy of No_Fire: 58.82183908045977\n",
            "\n",
            "\n",
            "Training loss: 0.000, training acc: 100.000\n",
            "Validation loss: 1.315, validation acc: 73.494\n",
            "--------------------------------------------------\n",
            "[INFO]: Epoch 46 of 50\n",
            "Training\n"
          ]
        },
        {
          "name": "stderr",
          "output_type": "stream",
          "text": [
            "100%|██████████| 2461/2461 [27:28<00:00,  1.49it/s]\n"
          ]
        },
        {
          "name": "stdout",
          "output_type": "stream",
          "text": [
            "Validation\n"
          ]
        },
        {
          "name": "stderr",
          "output_type": "stream",
          "text": [
            "100%|██████████| 539/539 [02:52<00:00,  3.12it/s]\n"
          ]
        },
        {
          "name": "stdout",
          "output_type": "stream",
          "text": [
            "\n",
            "\n",
            "Accuracy of Fire: 84.89390694958146\n",
            "Accuracy of No_Fire: 51.60919540229885\n",
            "\n",
            "\n",
            "Training loss: 0.000, training acc: 100.000\n",
            "Validation loss: 1.448, validation acc: 71.452\n",
            "--------------------------------------------------\n",
            "[INFO]: Epoch 47 of 50\n",
            "Training\n"
          ]
        },
        {
          "name": "stderr",
          "output_type": "stream",
          "text": [
            "100%|██████████| 2461/2461 [27:27<00:00,  1.49it/s]\n"
          ]
        },
        {
          "name": "stdout",
          "output_type": "stream",
          "text": [
            "Validation\n"
          ]
        },
        {
          "name": "stderr",
          "output_type": "stream",
          "text": [
            "100%|██████████| 539/539 [02:53<00:00,  3.11it/s]\n"
          ]
        },
        {
          "name": "stdout",
          "output_type": "stream",
          "text": [
            "\n",
            "\n",
            "Accuracy of Fire: 84.91337356433716\n",
            "Accuracy of No_Fire: 50.804597701149426\n",
            "\n",
            "\n",
            "Training loss: 0.000, training acc: 100.000\n",
            "Validation loss: 1.499, validation acc: 71.138\n",
            "--------------------------------------------------\n",
            "[INFO]: Epoch 48 of 50\n",
            "Training\n"
          ]
        },
        {
          "name": "stderr",
          "output_type": "stream",
          "text": [
            "100%|██████████| 2461/2461 [27:28<00:00,  1.49it/s]\n"
          ]
        },
        {
          "name": "stdout",
          "output_type": "stream",
          "text": [
            "Validation\n"
          ]
        },
        {
          "name": "stderr",
          "output_type": "stream",
          "text": [
            "100%|██████████| 539/539 [02:54<00:00,  3.09it/s]\n"
          ]
        },
        {
          "name": "stdout",
          "output_type": "stream",
          "text": [
            "\n",
            "\n",
            "Accuracy of Fire: 84.60190772824606\n",
            "Accuracy of No_Fire: 51.92528735632184\n",
            "\n",
            "\n",
            "Training loss: 0.000, training acc: 100.000\n",
            "Validation loss: 1.476, validation acc: 71.405\n",
            "--------------------------------------------------\n",
            "[INFO]: Epoch 49 of 50\n",
            "Training\n"
          ]
        },
        {
          "name": "stderr",
          "output_type": "stream",
          "text": [
            "100%|██████████| 2461/2461 [27:26<00:00,  1.49it/s]\n"
          ]
        },
        {
          "name": "stdout",
          "output_type": "stream",
          "text": [
            "Validation\n"
          ]
        },
        {
          "name": "stderr",
          "output_type": "stream",
          "text": [
            "100%|██████████| 539/539 [02:53<00:00,  3.11it/s]\n"
          ]
        },
        {
          "name": "stdout",
          "output_type": "stream",
          "text": [
            "\n",
            "\n",
            "Accuracy of Fire: 84.01790928557524\n",
            "Accuracy of No_Fire: 54.798850574712645\n",
            "\n",
            "\n",
            "Training loss: 0.000, training acc: 100.000\n",
            "Validation loss: 1.432, validation acc: 72.218\n",
            "--------------------------------------------------\n",
            "[INFO]: Epoch 50 of 50\n",
            "Training\n"
          ]
        },
        {
          "name": "stderr",
          "output_type": "stream",
          "text": [
            "100%|██████████| 2461/2461 [27:24<00:00,  1.50it/s]\n"
          ]
        },
        {
          "name": "stdout",
          "output_type": "stream",
          "text": [
            "Validation\n"
          ]
        },
        {
          "name": "stderr",
          "output_type": "stream",
          "text": [
            "100%|██████████| 539/539 [02:52<00:00,  3.13it/s]"
          ]
        },
        {
          "name": "stdout",
          "output_type": "stream",
          "text": [
            "\n",
            "\n",
            "Accuracy of Fire: 85.73097138407631\n",
            "Accuracy of No_Fire: 45.804597701149426\n",
            "\n",
            "\n",
            "Training loss: 0.000, training acc: 100.000\n",
            "Validation loss: 1.622, validation acc: 69.607\n",
            "--------------------------------------------------\n"
          ]
        },
        {
          "name": "stderr",
          "output_type": "stream",
          "text": [
            "\n"
          ]
        }
      ],
      "source": [
        "# start the training\n",
        "# lists to keep track of losses and accuracies\n",
        "train_loss, valid_loss = [], []\n",
        "train_acc, valid_acc = [], []\n",
        "for epoch in range(epochs):\n",
        "    print(f\"[INFO]: Epoch {epoch+1} of {epochs}\")\n",
        "\n",
        "    train_epoch_loss, train_epoch_acc = train(\n",
        "        model, \n",
        "        train_dataloader,                                       \n",
        "        optimizer, \n",
        "        criterion\n",
        "    )\n",
        "    valid_epoch_loss, valid_epoch_acc = validate(\n",
        "        model, \n",
        "        valid_dataloader,  \n",
        "        criterion,\n",
        "        train_dataset.classes\n",
        "    )\n",
        "    train_loss.append(train_epoch_loss)\n",
        "    valid_loss.append(valid_epoch_loss)\n",
        "    train_acc.append(train_epoch_acc)\n",
        "    valid_acc.append(valid_epoch_acc)\n",
        "\n",
        "    print('\\n')\n",
        "    print(f\"Training loss: {train_epoch_loss:.3f}, training acc: {train_epoch_acc:.3f}\")\n",
        "    print(f\"Validation loss: {valid_epoch_loss:.3f}, validation acc: {valid_epoch_acc:.3f}\")\n",
        "\n",
        "    print('-'*50)\n"
      ]
    },
    {
      "cell_type": "code",
      "execution_count": null,
      "id": "b2c8b9e2",
      "metadata": {
        "id": "b2c8b9e2",
        "papermill": {
          "duration": 0.500784,
          "end_time": "2022-11-26T06:24:21.193717",
          "exception": false,
          "start_time": "2022-11-26T06:24:20.692933",
          "status": "completed"
        },
        "tags": []
      },
      "outputs": [],
      "source": [
        "# save the trained model to disk\n",
        "torch.save({\n",
        "            'epoch': epochs,\n",
        "            'model_state_dict': model.state_dict(),\n",
        "            'optimizer_state_dict': optimizer.state_dict(),\n",
        "            'loss': criterion,\n",
        "            },  os.path.join(CKPT_DIR, 'vitmodel_0.0005.pth'))"
      ]
    },
    {
      "cell_type": "code",
      "execution_count": null,
      "id": "7e1ffde3",
      "metadata": {
        "id": "7e1ffde3",
        "papermill": {
          "duration": 1.17904,
          "end_time": "2022-11-26T06:24:22.590014",
          "exception": false,
          "start_time": "2022-11-26T06:24:21.410974",
          "status": "completed"
        },
        "tags": [],
        "outputId": "3c07374e-5340-40b6-99f9-2a525a472097"
      },
      "outputs": [
        {
          "data": {
            "image/png": "[encoded data removed]",
            "text/plain": [
              "<Figure size 1000x700 with 1 Axes>"
            ]
          },
          "metadata": {},
          "output_type": "display_data"
        },
        {
          "data": {
            "image/png": "[encoded data removed]",
            "text/plain": [
              "<Figure size 1000x700 with 1 Axes>"
            ]
          },
          "metadata": {},
          "output_type": "display_data"
        },
        {
          "name": "stdout",
          "output_type": "stream",
          "text": [
            "TRAINING COMPLETE\n"
          ]
        }
      ],
      "source": [
        "# accuracy plots\n",
        "plt.figure(figsize=(10, 7))\n",
        "plt.plot(\n",
        "    train_acc, color='green', linestyle='-', \n",
        "    label='train accuracy'\n",
        ")\n",
        "plt.plot(\n",
        "    valid_acc, color='blue', linestyle='-', \n",
        "    label='validataion accuracy'\n",
        ")\n",
        "plt.xlabel('Epochs')\n",
        "plt.ylabel('Accuracy')\n",
        "plt.legend()\n",
        "plt.savefig(os.path.join(PLOT_DIR, 'accuracy.png'))\n",
        "plt.show()\n",
        "# loss plots\n",
        "plt.figure(figsize=(10, 7))\n",
        "plt.plot(\n",
        "    train_loss, color='orange', linestyle='-', \n",
        "    label='train loss'\n",
        ")\n",
        "plt.plot(\n",
        "    valid_loss, color='red', linestyle='-', \n",
        "    label='validataion loss'\n",
        ")\n",
        "plt.xlabel('Epochs')\n",
        "plt.ylabel('Loss')\n",
        "plt.legend()\n",
        "plt.savefig(os.path.join(PLOT_DIR, 'loss.png'))\n",
        "plt.show()\n",
        " \n",
        "print('TRAINING COMPLETE')"
      ]
    },
    {
      "cell_type": "code",
      "execution_count": null,
      "id": "ee98fd76",
      "metadata": {
        "id": "ee98fd76",
        "papermill": {
          "duration": 0.153872,
          "end_time": "2022-11-26T06:24:22.993425",
          "exception": false,
          "start_time": "2022-11-26T06:24:22.839553",
          "status": "completed"
        },
        "tags": []
      },
      "outputs": [],
      "source": []
    },
    {
      "cell_type": "code",
      "execution_count": null,
      "id": "12dc5f25-2951-4f16-8698-a2f81f9424e1",
      "metadata": {
        "id": "12dc5f25-2951-4f16-8698-a2f81f9424e1"
      },
      "outputs": [],
      "source": []
    }
  ],
  "metadata": {
    "accelerator": "GPU",
    "colab": {
      "gpuType": "T4",
      "provenance": [],
      "include_colab_link": true
    },
    "gpuClass": "standard",
    "kernelspec": {
      "display_name": "Python 3 (ipykernel)",
      "language": "python",
      "name": "python3"
    },
    "language_info": {
      "codemirror_mode": {
        "name": "ipython",
        "version": 3
      },
      "file_extension": ".py",
      "mimetype": "text/x-python",
      "name": "python",
      "nbconvert_exporter": "python",
      "pygments_lexer": "ipython3",
      "version": "3.9.13"
    },
    "papermill": {
      "default_parameters": {},
      "duration": 20854.324556,
      "end_time": "2022-11-26T06:24:26.083768",
      "environment_variables": {},
      "exception": null,
      "input_path": "__notebook__.ipynb",
      "output_path": "__notebook__.ipynb",
      "parameters": {},
      "start_time": "2022-11-26T00:36:51.759212",
      "version": "2.3.4"
    },
    "vscode": {
      "interpreter": {
        "hash": "3bbbeabe83e93ef9527affa168e6f88c5c486a44dcccfff01b32fed3bbfe7883"
      }
    }
  },
  "nbformat": 4,
  "nbformat_minor": 5
}